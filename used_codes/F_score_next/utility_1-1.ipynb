{
 "cells": [
  {
   "cell_type": "code",
   "execution_count": null,
   "id": "31f090ba-f745-41c5-ad45-2334b7048be4",
   "metadata": {},
   "outputs": [],
   "source": [
    "# モジュールの導入\n",
    "import numpy as np\n",
    "from scipy.special import lambertw as LW\n",
    "import matplotlib.pyplot as plt\n",
    "from mpl_toolkits.mplot3d import axes3d\n",
    "import statistics\n",
    "import pandas as pd"
   ]
  },
  {
   "cell_type": "code",
   "execution_count": null,
   "id": "7f301149-90ee-4b32-a8a9-651e00113fcc",
   "metadata": {},
   "outputs": [],
   "source": [
    "# ユークリッド距離を返す関数\n",
    "def distance(Noise_x, Noise_y, POI_x, POI_y):\n",
    "    return np.sqrt( (Noise_x - POI_x)**2 + ( Noise_y - POI_y)**2 )"
   ]
  },
  {
   "cell_type": "code",
   "execution_count": null,
   "id": "61119af7-3aaa-4e0d-b27c-e667d7a1f43e",
   "metadata": {},
   "outputs": [],
   "source": [
    "poi_true = 0\n",
    "poi_false = 0"
   ]
  },
  {
   "cell_type": "code",
   "execution_count": null,
   "id": "875a681a-70d0-4539-aad9-1394906037f6",
   "metadata": {},
   "outputs": [],
   "source": [
    "# POI検索関数\n",
    "def PointOfInterest(poi_true, poi_false, Num, real_data, POI_data,\n",
    "                   zx_list, zy_list, zt_list, verocity):\n",
    "    poi_true = 0\n",
    "    poi_false = 0\n",
    "    for i in range(Num):\n",
    "        t_ = real_data[2] + zt_list[i] + (distance(zx_list[0][i], zy_list[0][i], \n",
    "                                      POI_data[0], POI_data[1]) / verocity )\n",
    "        if ( POI_data[2] > t_ ):\n",
    "            poi_true += 1\n",
    "        else:\n",
    "            poi_false += 1\n",
    "    return poi_true, poi_false"
   ]
  },
  {
   "cell_type": "code",
   "execution_count": null,
   "id": "f66f1a7e-ebf0-4b0b-b052-713f8b6b136e",
   "metadata": {},
   "outputs": [],
   "source": [
    "# 入力データ\n",
    "# 実際の時空間データ(位置(0,0), 12時に出発)\n",
    "real_data = [0, 0, 12]\n",
    "\n",
    "# POIデータ\n",
    "POI_data = [[4,0,17], [8,0,17], [12,0,17], [16,0,17],\n",
    "            [20,0,17],\n",
    "            [24,0,17], [28,0,17], [32,0,17], [36,0,17]]\n",
    "\n",
    "# 移動速度\n",
    "verocity = 4.0"
   ]
  },
  {
   "cell_type": "code",
   "execution_count": null,
   "id": "487b4f42-7a2a-4ea9-a50b-8b1dd281d711",
   "metadata": {},
   "outputs": [],
   "source": [
    "# ランダム化された点の分布の数\n",
    "Num = 10000"
   ]
  },
  {
   "cell_type": "code",
   "execution_count": null,
   "id": "c6a7115d-aed8-493b-8f40-eb27381d2aa8",
   "metadata": {},
   "outputs": [],
   "source": [
    "# POIの検索結果を格納するためのリスト\n",
    "POI_result_list = []\n",
    "POI_True_list = []\n",
    "POI_False_list = []\n",
    "\n",
    "# epsilonの値の定義\n",
    "epsilon_z = [0.05, 0.1, np.log(2)/2, np.log(4)/2, 1.5, 2, 5, 20]\n",
    "epsilon_t = []\n",
    "for i in range(len(epsilon_z)):\n",
    "    epsilon_t.append(epsilon_z[i] * verocity)"
   ]
  },
  {
   "cell_type": "code",
   "execution_count": null,
   "id": "036f955c-c768-4d07-b911-21b440ab5d49",
   "metadata": {},
   "outputs": [],
   "source": [
    "zx_list = []\n",
    "zy_list = []\n",
    "zt_list = []"
   ]
  },
  {
   "cell_type": "code",
   "execution_count": null,
   "id": "a4907c5b-b478-4366-b62c-8652129974b6",
   "metadata": {},
   "outputs": [],
   "source": [
    "# ノイズ生成\n",
    "theta = np.random.uniform(0,2*np.pi,Num)\n",
    "\n",
    "p_z = np.random.uniform(0,1,Num)\n",
    "p_t = np.random.uniform(0,1,Num)"
   ]
  },
  {
   "cell_type": "code",
   "execution_count": null,
   "id": "9a9b7e24-ed28-49f5-9aa1-e9d7d7147712",
   "metadata": {},
   "outputs": [],
   "source": [
    "list_first = []\n",
    "list_utility_1 = []"
   ]
  },
  {
   "cell_type": "code",
   "execution_count": null,
   "id": "c18a3b3d-9f38-4a92-8758-d7e420268254",
   "metadata": {},
   "outputs": [],
   "source": [
    "for i in range(len(epsilon_z)):\n",
    "    if epsilon_z[i] != 0:\n",
    "        for j in range(len(POI_data)):\n",
    "            for k in range(100):\n",
    "                W = LW( ((p_z - 1) / np.e), k = -1 )\n",
    "                r = ( -1 / epsilon_z[i] ) * ( W + 1 )\n",
    "                \n",
    "                zx = real_data[0] + r * np.cos(theta)\n",
    "                zx_list.append(np.array(zx))\n",
    "                zy = real_data[1] + r * np.sin(theta)\n",
    "                zy_list.append(np.array(zy))\n",
    "                \n",
    "                # EX ノイズを付与 1:1\n",
    "                pp = 1\n",
    "                for l in range(Num):\n",
    "                    if p_t[l] <= (1/(pp+1)):\n",
    "                        zt_list.append((2/epsilon_t[i]) * np.log((pp+1)*p_t[l]))\n",
    "                    elif p_t[j] < 1:\n",
    "                        zt_list.append(((2*pp)/epsilon_t[i]) * np.log( (pp/((pp+1)*(1-p_t[l])))) )\n",
    "                \n",
    "                POI_result_list.append(PointOfInterest(poi_true, poi_false, Num, real_data, POI_data[j],zx_list, zy_list, zt_list, verocity))\n",
    "                \n",
    "                zx_list = []\n",
    "                zy_list = []\n",
    "                zt_list = []\n",
    "            for m in range(100):\n",
    "                POI_True_list.append(POI_result_list[m][0])\n",
    "                POI_False_list.append(POI_result_list[m][1])\n",
    "            true_mean = statistics.mean(POI_True_list)\n",
    "            false_mean = statistics.mean(POI_False_list)\n",
    "\n",
    "            list_first.append((true_mean,false_mean))\n",
    "            \n",
    "            # POIに関するリストの解放\n",
    "            POI_result_list = []\n",
    "            POI_True_list = []\n",
    "            POI_False_list = []\n",
    "        list_utility_1.append(list_first)\n",
    "        list_first = []\n",
    "print(\"done\")"
   ]
  },
  {
   "cell_type": "code",
   "execution_count": null,
   "id": "d696ab89-0c9a-4a1c-ab3a-04dc4a83faa4",
   "metadata": {},
   "outputs": [],
   "source": [
    "index1 = []\n",
    "columns1 = []\n",
    "for i in range(len(epsilon_z)):\n",
    "    index1.append(\"eps_z= \"+str(epsilon_z[i]*2))\n",
    "for i in range(len(POI_data)):\n",
    "    columns1.append(tuple(POI_data[i]))"
   ]
  },
  {
   "cell_type": "code",
   "execution_count": null,
   "id": "c1e32d16-52bd-4792-a0c3-bf3a6be5f01c",
   "metadata": {},
   "outputs": [],
   "source": []
  },
  {
   "cell_type": "code",
   "execution_count": null,
   "id": "36632f62-c810-4c69-b4bb-7c7b4037004c",
   "metadata": {},
   "outputs": [],
   "source": []
  },
  {
   "cell_type": "code",
   "execution_count": null,
   "id": "ca1f6faf-8b4c-43d1-823c-3fe8fe772058",
   "metadata": {},
   "outputs": [],
   "source": []
  }
 ],
 "metadata": {
  "kernelspec": {
   "display_name": "Python 3 (ipykernel)",
   "language": "python",
   "name": "python3"
  },
  "language_info": {
   "codemirror_mode": {
    "name": "ipython",
    "version": 3
   },
   "file_extension": ".py",
   "mimetype": "text/x-python",
   "name": "python",
   "nbconvert_exporter": "python",
   "pygments_lexer": "ipython3",
   "version": "3.9.13"
  }
 },
 "nbformat": 4,
 "nbformat_minor": 5
}
