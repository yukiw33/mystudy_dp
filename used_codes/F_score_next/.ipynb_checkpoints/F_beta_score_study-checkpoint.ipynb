{
 "cells": [
  {
   "cell_type": "markdown",
   "id": "3b562b35-ed52-46b6-953a-c640b53e823a",
   "metadata": {},
   "source": [
    "## F-scoreで評価する\n",
    "\n",
    "今回はPositive＝間に合わないと出力という形でひっくり返して考え直していく．\n",
    "1. True-Positive : 出力「間に合わない」→真に「間に合わない」\n",
    "2. False-Positive: 出力「間に合わない」→本当は「間に合う」\n",
    "3. True-Negative : 出力「間にあう」→真に「間に合う」\n",
    "4. False-Negative: 出力「間に合う」→本当は「間に合わない」\n",
    "\n",
    "今回のケーススタディでは，間に合わないのに間に合うと出力されることを避けたい（FNを小さくしたい）\\\n",
    "したがって，再現率を重視して出力する．\\\n",
    "この際．βの値は{1.0, 2.0, 5.0, 10.0, 100.0}で計算することとする．"
   ]
  },
  {
   "cell_type": "markdown",
   "id": "5c85fea7-b0e4-443a-9b19-d483f5922261",
   "metadata": {
    "tags": []
   },
   "source": [
    "### 前提条件"
   ]
  },
  {
   "cell_type": "code",
   "execution_count": 1,
   "id": "2e439a0f-bf59-44fa-867a-70e0088faf71",
   "metadata": {},
   "outputs": [],
   "source": [
    "# モジュールの導入\n",
    "import numpy as np\n",
    "from scipy.special import lambertw as LW\n",
    "import matplotlib.pyplot as plt\n",
    "from mpl_toolkits.mplot3d import axes3d\n",
    "import statistics\n",
    "import pandas as pd"
   ]
  },
  {
   "cell_type": "code",
   "execution_count": 2,
   "id": "3c7b2068-5c9b-4af1-be40-fbe1f93c2e8b",
   "metadata": {},
   "outputs": [],
   "source": [
    "# 重みづけの変数β\n",
    "beta = [1.0, 2.0, 5.0, 10.0, 100.0]"
   ]
  },
  {
   "cell_type": "code",
   "execution_count": 3,
   "id": "d8ee63f5-8456-4069-b781-7948bd4c1ee2",
   "metadata": {},
   "outputs": [],
   "source": [
    "# F値を保存するためのテキストファイルの宣言\n",
    "path_w_1 = 'f_score_1_next.txt'\n",
    "path_w_2 = 'f_score_2_next.txt'\n",
    "path_w_5 = 'f_score_5_next.txt'\n",
    "path_w_10 = 'f_score_10_mext.txt'"
   ]
  },
  {
   "cell_type": "markdown",
   "id": "75dedaaa-29f5-403a-b9ff-69248c0fecfe",
   "metadata": {
    "tags": []
   },
   "source": [
    "### 効用関数1:1"
   ]
  },
  {
   "cell_type": "code",
   "execution_count": 4,
   "id": "7892beaf-411c-4533-ab4d-aa5324f4ac12",
   "metadata": {},
   "outputs": [
    {
     "name": "stdout",
     "output_type": "stream",
     "text": [
      "done\n"
     ]
    }
   ],
   "source": [
    "run ./utility_1-1.ipynb"
   ]
  },
  {
   "cell_type": "code",
   "execution_count": 5,
   "id": "21e9464a-685b-4fcb-88c7-e05df008eb3a",
   "metadata": {},
   "outputs": [],
   "source": [
    "table1 = pd.DataFrame(data=list_utility_1, index=index1, columns=columns1)"
   ]
  },
  {
   "cell_type": "code",
   "execution_count": 6,
   "id": "ab5a2e67-8955-496e-b0ad-58655e84dce1",
   "metadata": {},
   "outputs": [
    {
     "name": "stdout",
     "output_type": "stream",
     "text": [
      "\\begin{tabular}{llllllllll}\n",
      "\\toprule\n",
      "{} &    (4, 0, 17) &    (8, 0, 17) &   (12, 0, 17) &   (16, 0, 17) &   (20, 0, 17) &   (24, 0, 17) &   (28, 0, 17) &   (32, 0, 17) &   (36, 0, 17) \\\\\n",
      "\\midrule\n",
      "eps\\_z= 0.1                &  (3611, 6389) &  (3565, 6435) &  (3501, 6499) &  (3405, 6595) &  (3304, 6696) &  (3183, 6817) &  (3044, 6956) &  (2890, 7110) &  (2731, 7269) \\\\\n",
      "eps\\_z= 0.2                &  (5169, 4831) &  (5001, 4999) &  (4727, 5273) &  (4382, 5618) &  (3975, 6025) &  (3549, 6451) &  (3126, 6874) &  (2747, 7253) &  (2330, 7670) \\\\\n",
      "eps\\_z= 0.6931471805599453 &   (9296, 704) &  (8888, 1112) &  (8054, 1946) &  (6693, 3307) &  (4758, 5242) &  (2935, 7065) &  (1630, 8370) &   (864, 9136) &   (426, 9574) \\\\\n",
      "eps\\_z= 1.3862943611198906 &    (9956, 44) &   (9862, 138) &   (9520, 480) &  (8240, 1760) &  (4911, 5089) &  (1686, 8314) &   (439, 9561) &   (128, 9872) &    (32, 9968) \\\\\n",
      "eps\\_z= 3.0                &    (10000, 0) &     (9999, 1) &    (9980, 20) &   (9642, 358) &  (4993, 5007) &   (363, 9637) &    (21, 9979) &     (2, 9998) &    (0, 10000) \\\\\n",
      "eps\\_z= 4                  &    (10000, 0) &    (10000, 0) &     (9999, 1) &   (9859, 141) &  (5015, 4985) &   (151, 9849) &     (4, 9996) &    (0, 10000) &    (0, 10000) \\\\\n",
      "eps\\_z= 10                 &    (10000, 0) &    (10000, 0) &    (10000, 0) &     (9999, 1) &  (5049, 4951) &     (1, 9999) &    (0, 10000) &    (0, 10000) &    (0, 10000) \\\\\n",
      "eps\\_z= 40                 &    (10000, 0) &    (10000, 0) &    (10000, 0) &    (10000, 0) &  (5071, 4929) &    (0, 10000) &    (0, 10000) &    (0, 10000) &    (0, 10000) \\\\\n",
      "\\bottomrule\n",
      "\\end{tabular}\n",
      "\n"
     ]
    },
    {
     "name": "stderr",
     "output_type": "stream",
     "text": [
      "/var/folders/ln/474st4yn1571hxwpq8vtklx40000gn/T/ipykernel_22809/1613091376.py:1: FutureWarning: In future versions `DataFrame.to_latex` is expected to utilise the base implementation of `Styler.to_latex` for formatting and rendering. The arguments signature may therefore change. It is recommended instead to use `DataFrame.style.to_latex` which also contains additional functionality.\n",
      "  print(table1.to_latex())\n"
     ]
    }
   ],
   "source": [
    "print(table1.to_latex())"
   ]
  },
  {
   "cell_type": "code",
   "execution_count": 7,
   "id": "d942f0e8-1914-4d0e-9e94-9f9fe3739035",
   "metadata": {},
   "outputs": [
    {
     "name": "stdout",
     "output_type": "stream",
     "text": [
      "\\begin{tabular}{lllll}\n",
      "\\toprule\n",
      "{} &   (24, 0, 17) &   (28, 0, 17) &   (32, 0, 17) &   (36, 0, 17) \\\\\n",
      "\\midrule\n",
      "eps\\_z= 0.1                &  (3183, 6817) &  (3044, 6956) &  (2890, 7110) &  (2731, 7269) \\\\\n",
      "eps\\_z= 0.2                &  (3549, 6451) &  (3126, 6874) &  (2747, 7253) &  (2330, 7670) \\\\\n",
      "eps\\_z= 0.6931471805599453 &  (2935, 7065) &  (1630, 8370) &   (864, 9136) &   (426, 9574) \\\\\n",
      "eps\\_z= 1.3862943611198906 &  (1686, 8314) &   (439, 9561) &   (128, 9872) &    (32, 9968) \\\\\n",
      "eps\\_z= 3.0                &   (363, 9637) &    (21, 9979) &     (2, 9998) &    (0, 10000) \\\\\n",
      "eps\\_z= 4                  &   (151, 9849) &     (4, 9996) &    (0, 10000) &    (0, 10000) \\\\\n",
      "eps\\_z= 10                 &     (1, 9999) &    (0, 10000) &    (0, 10000) &    (0, 10000) \\\\\n",
      "eps\\_z= 40                 &    (0, 10000) &    (0, 10000) &    (0, 10000) &    (0, 10000) \\\\\n",
      "\\bottomrule\n",
      "\\end{tabular}\n",
      "\n"
     ]
    },
    {
     "name": "stderr",
     "output_type": "stream",
     "text": [
      "/var/folders/ln/474st4yn1571hxwpq8vtklx40000gn/T/ipykernel_22809/3577720477.py:2: FutureWarning: In future versions `DataFrame.to_latex` is expected to utilise the base implementation of `Styler.to_latex` for formatting and rendering. The arguments signature may therefore change. It is recommended instead to use `DataFrame.style.to_latex` which also contains additional functionality.\n",
      "  print(table2.to_latex())\n"
     ]
    },
    {
     "data": {
      "text/html": [
       "<div>\n",
       "<style scoped>\n",
       "    .dataframe tbody tr th:only-of-type {\n",
       "        vertical-align: middle;\n",
       "    }\n",
       "\n",
       "    .dataframe tbody tr th {\n",
       "        vertical-align: top;\n",
       "    }\n",
       "\n",
       "    .dataframe thead th {\n",
       "        text-align: right;\n",
       "    }\n",
       "</style>\n",
       "<table border=\"1\" class=\"dataframe\">\n",
       "  <thead>\n",
       "    <tr style=\"text-align: right;\">\n",
       "      <th></th>\n",
       "      <th>(24, 0, 17)</th>\n",
       "      <th>(28, 0, 17)</th>\n",
       "      <th>(32, 0, 17)</th>\n",
       "      <th>(36, 0, 17)</th>\n",
       "    </tr>\n",
       "  </thead>\n",
       "  <tbody>\n",
       "    <tr>\n",
       "      <th>eps_z= 0.1</th>\n",
       "      <td>(3183, 6817)</td>\n",
       "      <td>(3044, 6956)</td>\n",
       "      <td>(2890, 7110)</td>\n",
       "      <td>(2731, 7269)</td>\n",
       "    </tr>\n",
       "    <tr>\n",
       "      <th>eps_z= 0.2</th>\n",
       "      <td>(3549, 6451)</td>\n",
       "      <td>(3126, 6874)</td>\n",
       "      <td>(2747, 7253)</td>\n",
       "      <td>(2330, 7670)</td>\n",
       "    </tr>\n",
       "    <tr>\n",
       "      <th>eps_z= 0.6931471805599453</th>\n",
       "      <td>(2935, 7065)</td>\n",
       "      <td>(1630, 8370)</td>\n",
       "      <td>(864, 9136)</td>\n",
       "      <td>(426, 9574)</td>\n",
       "    </tr>\n",
       "    <tr>\n",
       "      <th>eps_z= 1.3862943611198906</th>\n",
       "      <td>(1686, 8314)</td>\n",
       "      <td>(439, 9561)</td>\n",
       "      <td>(128, 9872)</td>\n",
       "      <td>(32, 9968)</td>\n",
       "    </tr>\n",
       "    <tr>\n",
       "      <th>eps_z= 3.0</th>\n",
       "      <td>(363, 9637)</td>\n",
       "      <td>(21, 9979)</td>\n",
       "      <td>(2, 9998)</td>\n",
       "      <td>(0, 10000)</td>\n",
       "    </tr>\n",
       "    <tr>\n",
       "      <th>eps_z= 4</th>\n",
       "      <td>(151, 9849)</td>\n",
       "      <td>(4, 9996)</td>\n",
       "      <td>(0, 10000)</td>\n",
       "      <td>(0, 10000)</td>\n",
       "    </tr>\n",
       "    <tr>\n",
       "      <th>eps_z= 10</th>\n",
       "      <td>(1, 9999)</td>\n",
       "      <td>(0, 10000)</td>\n",
       "      <td>(0, 10000)</td>\n",
       "      <td>(0, 10000)</td>\n",
       "    </tr>\n",
       "    <tr>\n",
       "      <th>eps_z= 40</th>\n",
       "      <td>(0, 10000)</td>\n",
       "      <td>(0, 10000)</td>\n",
       "      <td>(0, 10000)</td>\n",
       "      <td>(0, 10000)</td>\n",
       "    </tr>\n",
       "  </tbody>\n",
       "</table>\n",
       "</div>"
      ],
      "text/plain": [
       "                            (24, 0, 17)   (28, 0, 17)   (32, 0, 17)  \\\n",
       "eps_z= 0.1                 (3183, 6817)  (3044, 6956)  (2890, 7110)   \n",
       "eps_z= 0.2                 (3549, 6451)  (3126, 6874)  (2747, 7253)   \n",
       "eps_z= 0.6931471805599453  (2935, 7065)  (1630, 8370)   (864, 9136)   \n",
       "eps_z= 1.3862943611198906  (1686, 8314)   (439, 9561)   (128, 9872)   \n",
       "eps_z= 3.0                  (363, 9637)    (21, 9979)     (2, 9998)   \n",
       "eps_z= 4                    (151, 9849)     (4, 9996)    (0, 10000)   \n",
       "eps_z= 10                     (1, 9999)    (0, 10000)    (0, 10000)   \n",
       "eps_z= 40                    (0, 10000)    (0, 10000)    (0, 10000)   \n",
       "\n",
       "                            (36, 0, 17)  \n",
       "eps_z= 0.1                 (2731, 7269)  \n",
       "eps_z= 0.2                 (2330, 7670)  \n",
       "eps_z= 0.6931471805599453   (426, 9574)  \n",
       "eps_z= 1.3862943611198906    (32, 9968)  \n",
       "eps_z= 3.0                   (0, 10000)  \n",
       "eps_z= 4                     (0, 10000)  \n",
       "eps_z= 10                    (0, 10000)  \n",
       "eps_z= 40                    (0, 10000)  "
      ]
     },
     "execution_count": 7,
     "metadata": {},
     "output_type": "execute_result"
    }
   ],
   "source": [
    "table2 = table1.iloc[:,5:]\n",
    "print(table2.to_latex())\n",
    "table2"
   ]
  },
  {
   "cell_type": "code",
   "execution_count": 8,
   "id": "e7245057-b428-4ce6-b543-ee294116a83b",
   "metadata": {},
   "outputs": [],
   "source": [
    "TN, FN, TP, FP = 0, 0, 0, 0\n",
    "T_Negative = []\n",
    "F_Negative = []\n",
    "T_Positive = []\n",
    "F_Positive = []\n",
    "\n",
    "for i in range(len(epsilon_z)):\n",
    "    for j in range(len(POI_data)):\n",
    "        if j < 4:\n",
    "            TN = TN + list_utility_1[i][j][0]\n",
    "            FP = FP + list_utility_1[i][j][1]\n",
    "        elif j > 4:\n",
    "            TP = TP + list_utility_1[i][j][1] \n",
    "            FN = FN + list_utility_1[i][j][0]    \n",
    "    T_Positive.append(TP/(Num*4))\n",
    "    T_Negative.append(TN/(Num*4))\n",
    "    F_Positive.append(FP/(Num*4))\n",
    "    F_Negative.append(FN/(Num*4))\n",
    "    TN, FN, TP, FP = 0, 0, 0, 0"
   ]
  },
  {
   "cell_type": "markdown",
   "id": "df21538b-4882-4ed0-af6a-0a60f0c87139",
   "metadata": {
    "jp-MarkdownHeadingCollapsed": true,
    "tags": []
   },
   "source": [
    "### 効用関数2:1"
   ]
  },
  {
   "cell_type": "code",
   "execution_count": 8,
   "id": "bada2c31-339d-4db2-abad-5ddbdb9d7013",
   "metadata": {},
   "outputs": [
    {
     "name": "stdout",
     "output_type": "stream",
     "text": [
      "done\n"
     ]
    }
   ],
   "source": [
    "run ./utility_2-1.ipynb"
   ]
  },
  {
   "cell_type": "code",
   "execution_count": 31,
   "id": "d83408d3-3a74-4505-a408-84af8a818f4d",
   "metadata": {},
   "outputs": [],
   "source": [
    "table1 = pd.DataFrame(data=list_utility_2, index=index1, columns=columns1)"
   ]
  },
  {
   "cell_type": "code",
   "execution_count": 34,
   "id": "eec647c2-716e-4334-8cdc-60f8fc4e0922",
   "metadata": {},
   "outputs": [
    {
     "name": "stdout",
     "output_type": "stream",
     "text": [
      "\\begin{tabular}{lllll}\n",
      "\\toprule\n",
      "{} &    (4, 0, 17) &    (8, 0, 17) &   (12, 0, 17) &   (16, 0, 17) \\\\\n",
      "\\midrule\n",
      "eps\\_z= 0.1                &  (2460, 7540) &  (2443, 7557) &  (2384, 7616) &  (2307, 7693) \\\\\n",
      "eps\\_z= 0.2                &  (3599, 6401) &  (3487, 6513) &  (3288, 6712) &  (3036, 6964) \\\\\n",
      "eps\\_z= 0.6931471805599453 &  (7760, 2240) &  (7160, 2840) &  (6185, 3815) &  (4848, 5152) \\\\\n",
      "eps\\_z= 1.3862943611198906 &   (9458, 542) &   (9052, 948) &  (8140, 1860) &  (6390, 3610) \\\\\n",
      "eps\\_z= 3.0                &    (9980, 20) &    (9923, 77) &   (9655, 345) &  (8385, 1615) \\\\\n",
      "eps\\_z= 4                  &     (9999, 1) &    (9981, 19) &   (9865, 135) &   (9027, 973) \\\\\n",
      "eps\\_z= 10                 &    (10000, 0) &    (10000, 0) &     (9999, 1) &    (9952, 48) \\\\\n",
      "eps\\_z= 40                 &    (10000, 0) &    (10000, 0) &    (10000, 0) &    (10000, 0) \\\\\n",
      "\\bottomrule\n",
      "\\end{tabular}\n",
      "\n"
     ]
    },
    {
     "name": "stderr",
     "output_type": "stream",
     "text": [
      "/var/folders/ln/474st4yn1571hxwpq8vtklx40000gn/T/ipykernel_1369/3069376699.py:2: FutureWarning: In future versions `DataFrame.to_latex` is expected to utilise the base implementation of `Styler.to_latex` for formatting and rendering. The arguments signature may therefore change. It is recommended instead to use `DataFrame.style.to_latex` which also contains additional functionality.\n",
      "  print(table2.to_latex())\n"
     ]
    }
   ],
   "source": [
    "table2 = table1.iloc[:,:4]\n",
    "print(table2.to_latex())"
   ]
  },
  {
   "cell_type": "code",
   "execution_count": 101,
   "id": "35e11f5f-0cc6-498e-b87a-a4a027b9a911",
   "metadata": {},
   "outputs": [],
   "source": [
    "TN, FN, TP, FP = 0, 0, 0, 0\n",
    "T_Negative = []\n",
    "F_Negative = []\n",
    "T_Positive = []\n",
    "F_Positive = []\n",
    "\n",
    "for i in range(len(epsilon_z)):\n",
    "    for j in range(len(POI_data)):\n",
    "        if j < 4:\n",
    "            TN = TN + list_utility_2[i][j][0]\n",
    "            FP = FP + list_utility_2[i][j][1]\n",
    "        elif j > 4:\n",
    "            TP = TP + list_utility_2[i][j][1] \n",
    "            FN = FN + list_utility_2[i][j][0]    \n",
    "    T_Positive.append(TP/(Num*4))\n",
    "    T_Negative.append(TN/(Num*4))\n",
    "    F_Positive.append(FP/(Num*4))\n",
    "    F_Negative.append(FN/(Num*4))\n",
    "    TN, FN, TP, FP = 0, 0, 0, 0\n"
   ]
  },
  {
   "cell_type": "markdown",
   "id": "ccb22d60-0d82-4f01-862a-42c7168a009d",
   "metadata": {
    "jp-MarkdownHeadingCollapsed": true,
    "tags": []
   },
   "source": [
    "### 効用関数5:1"
   ]
  },
  {
   "cell_type": "code",
   "execution_count": 10,
   "id": "79cb3ab6-c690-4ba6-a2d2-1d555083c5eb",
   "metadata": {},
   "outputs": [
    {
     "name": "stdout",
     "output_type": "stream",
     "text": [
      "done\n"
     ]
    }
   ],
   "source": [
    "run ./utility_5-1.ipynb"
   ]
  },
  {
   "cell_type": "code",
   "execution_count": 27,
   "id": "cfbf15d9-a84e-438f-ba3c-d04002c5e463",
   "metadata": {},
   "outputs": [],
   "source": [
    "table1 = pd.DataFrame(data=list_utility_5, index=index1, columns=columns1)"
   ]
  },
  {
   "cell_type": "code",
   "execution_count": 29,
   "id": "b49a94e8-67db-462f-bad1-d02e960dd22f",
   "metadata": {},
   "outputs": [
    {
     "name": "stdout",
     "output_type": "stream",
     "text": [
      "\\begin{tabular}{lllll}\n",
      "\\toprule\n",
      "{} &   (24, 0, 17) &   (28, 0, 17) &  (32, 0, 17) &  (36, 0, 17) \\\\\n",
      "\\midrule\n",
      "eps\\_z= 0.1                &  (1072, 8928) &  (1025, 8975) &  (984, 9016) &  (924, 9076) \\\\\n",
      "eps\\_z= 0.2                &  (1208, 8792) &  (1062, 8938) &  (917, 9083) &  (778, 9222) \\\\\n",
      "eps\\_z= 0.6931471805599453 &  (1014, 8986) &   (536, 9464) &  (304, 9696) &  (159, 9841) \\\\\n",
      "eps\\_z= 1.3862943611198906 &   (558, 9442) &   (165, 9835) &   (50, 9950) &   (12, 9988) \\\\\n",
      "eps\\_z= 3.0                &   (139, 9861) &     (7, 9993) &    (2, 9998) &   (0, 10000) \\\\\n",
      "eps\\_z= 4                  &    (58, 9942) &     (2, 9998) &   (0, 10000) &   (0, 10000) \\\\\n",
      "eps\\_z= 10                 &    (0, 10000) &    (0, 10000) &   (0, 10000) &   (0, 10000) \\\\\n",
      "eps\\_z= 40                 &    (0, 10000) &    (0, 10000) &   (0, 10000) &   (0, 10000) \\\\\n",
      "\\bottomrule\n",
      "\\end{tabular}\n",
      "\n"
     ]
    },
    {
     "name": "stderr",
     "output_type": "stream",
     "text": [
      "/var/folders/ln/474st4yn1571hxwpq8vtklx40000gn/T/ipykernel_1369/3577720477.py:2: FutureWarning: In future versions `DataFrame.to_latex` is expected to utilise the base implementation of `Styler.to_latex` for formatting and rendering. The arguments signature may therefore change. It is recommended instead to use `DataFrame.style.to_latex` which also contains additional functionality.\n",
      "  print(table2.to_latex())\n"
     ]
    },
    {
     "data": {
      "text/html": [
       "<div>\n",
       "<style scoped>\n",
       "    .dataframe tbody tr th:only-of-type {\n",
       "        vertical-align: middle;\n",
       "    }\n",
       "\n",
       "    .dataframe tbody tr th {\n",
       "        vertical-align: top;\n",
       "    }\n",
       "\n",
       "    .dataframe thead th {\n",
       "        text-align: right;\n",
       "    }\n",
       "</style>\n",
       "<table border=\"1\" class=\"dataframe\">\n",
       "  <thead>\n",
       "    <tr style=\"text-align: right;\">\n",
       "      <th></th>\n",
       "      <th>(24, 0, 17)</th>\n",
       "      <th>(28, 0, 17)</th>\n",
       "      <th>(32, 0, 17)</th>\n",
       "      <th>(36, 0, 17)</th>\n",
       "    </tr>\n",
       "  </thead>\n",
       "  <tbody>\n",
       "    <tr>\n",
       "      <th>eps_z= 0.1</th>\n",
       "      <td>(1072, 8928)</td>\n",
       "      <td>(1025, 8975)</td>\n",
       "      <td>(984, 9016)</td>\n",
       "      <td>(924, 9076)</td>\n",
       "    </tr>\n",
       "    <tr>\n",
       "      <th>eps_z= 0.2</th>\n",
       "      <td>(1208, 8792)</td>\n",
       "      <td>(1062, 8938)</td>\n",
       "      <td>(917, 9083)</td>\n",
       "      <td>(778, 9222)</td>\n",
       "    </tr>\n",
       "    <tr>\n",
       "      <th>eps_z= 0.6931471805599453</th>\n",
       "      <td>(1014, 8986)</td>\n",
       "      <td>(536, 9464)</td>\n",
       "      <td>(304, 9696)</td>\n",
       "      <td>(159, 9841)</td>\n",
       "    </tr>\n",
       "    <tr>\n",
       "      <th>eps_z= 1.3862943611198906</th>\n",
       "      <td>(558, 9442)</td>\n",
       "      <td>(165, 9835)</td>\n",
       "      <td>(50, 9950)</td>\n",
       "      <td>(12, 9988)</td>\n",
       "    </tr>\n",
       "    <tr>\n",
       "      <th>eps_z= 3.0</th>\n",
       "      <td>(139, 9861)</td>\n",
       "      <td>(7, 9993)</td>\n",
       "      <td>(2, 9998)</td>\n",
       "      <td>(0, 10000)</td>\n",
       "    </tr>\n",
       "    <tr>\n",
       "      <th>eps_z= 4</th>\n",
       "      <td>(58, 9942)</td>\n",
       "      <td>(2, 9998)</td>\n",
       "      <td>(0, 10000)</td>\n",
       "      <td>(0, 10000)</td>\n",
       "    </tr>\n",
       "    <tr>\n",
       "      <th>eps_z= 10</th>\n",
       "      <td>(0, 10000)</td>\n",
       "      <td>(0, 10000)</td>\n",
       "      <td>(0, 10000)</td>\n",
       "      <td>(0, 10000)</td>\n",
       "    </tr>\n",
       "    <tr>\n",
       "      <th>eps_z= 40</th>\n",
       "      <td>(0, 10000)</td>\n",
       "      <td>(0, 10000)</td>\n",
       "      <td>(0, 10000)</td>\n",
       "      <td>(0, 10000)</td>\n",
       "    </tr>\n",
       "  </tbody>\n",
       "</table>\n",
       "</div>"
      ],
      "text/plain": [
       "                            (24, 0, 17)   (28, 0, 17)  (32, 0, 17)  \\\n",
       "eps_z= 0.1                 (1072, 8928)  (1025, 8975)  (984, 9016)   \n",
       "eps_z= 0.2                 (1208, 8792)  (1062, 8938)  (917, 9083)   \n",
       "eps_z= 0.6931471805599453  (1014, 8986)   (536, 9464)  (304, 9696)   \n",
       "eps_z= 1.3862943611198906   (558, 9442)   (165, 9835)   (50, 9950)   \n",
       "eps_z= 3.0                  (139, 9861)     (7, 9993)    (2, 9998)   \n",
       "eps_z= 4                     (58, 9942)     (2, 9998)   (0, 10000)   \n",
       "eps_z= 10                    (0, 10000)    (0, 10000)   (0, 10000)   \n",
       "eps_z= 40                    (0, 10000)    (0, 10000)   (0, 10000)   \n",
       "\n",
       "                           (36, 0, 17)  \n",
       "eps_z= 0.1                 (924, 9076)  \n",
       "eps_z= 0.2                 (778, 9222)  \n",
       "eps_z= 0.6931471805599453  (159, 9841)  \n",
       "eps_z= 1.3862943611198906   (12, 9988)  \n",
       "eps_z= 3.0                  (0, 10000)  \n",
       "eps_z= 4                    (0, 10000)  \n",
       "eps_z= 10                   (0, 10000)  \n",
       "eps_z= 40                   (0, 10000)  "
      ]
     },
     "execution_count": 29,
     "metadata": {},
     "output_type": "execute_result"
    }
   ],
   "source": [
    "table2 = table1.iloc[:,5:]\n",
    "print(table2.to_latex())\n",
    "table2"
   ]
  },
  {
   "cell_type": "code",
   "execution_count": 103,
   "id": "29a32574-cb18-4781-8855-9968653b5c3f",
   "metadata": {},
   "outputs": [],
   "source": [
    "TN, FN, TP, FP = 0, 0, 0, 0\n",
    "T_Negative = []\n",
    "F_Negative = []\n",
    "T_Positive = []\n",
    "F_Positive = []\n",
    "\n",
    "for i in range(len(epsilon_z)):\n",
    "    for j in range(len(POI_data)):\n",
    "        if j < 4:\n",
    "            TN = TN + list_utility_5[i][j][0]\n",
    "            FP = FP + list_utility_5[i][j][1]\n",
    "        elif j > 4:\n",
    "            TP = TP + list_utility_5[i][j][1] \n",
    "            FN = FN + list_utility_5[i][j][0]    \n",
    "    T_Positive.append(TP/(Num*4))\n",
    "    T_Negative.append(TN/(Num*4))\n",
    "    F_Positive.append(FP/(Num*4))\n",
    "    F_Negative.append(FN/(Num*4))\n",
    "    TN, FN, TP, FP = 0, 0, 0, 0"
   ]
  },
  {
   "cell_type": "markdown",
   "id": "640ff30d-1cc0-4cc5-a129-b4923cecd9c1",
   "metadata": {},
   "source": [
    "### 効用関数10:1"
   ]
  },
  {
   "cell_type": "code",
   "execution_count": 9,
   "id": "5d7ac997-f083-49f5-aa54-1c337807efb1",
   "metadata": {},
   "outputs": [
    {
     "name": "stdout",
     "output_type": "stream",
     "text": [
      "done\n"
     ]
    }
   ],
   "source": [
    "run ./utility_10-1.ipynb"
   ]
  },
  {
   "cell_type": "code",
   "execution_count": 10,
   "id": "fef3b707-237c-4311-92f6-6e6ee86d8374",
   "metadata": {},
   "outputs": [
    {
     "data": {
      "text/html": [
       "<div>\n",
       "<style scoped>\n",
       "    .dataframe tbody tr th:only-of-type {\n",
       "        vertical-align: middle;\n",
       "    }\n",
       "\n",
       "    .dataframe tbody tr th {\n",
       "        vertical-align: top;\n",
       "    }\n",
       "\n",
       "    .dataframe thead th {\n",
       "        text-align: right;\n",
       "    }\n",
       "</style>\n",
       "<table border=\"1\" class=\"dataframe\">\n",
       "  <thead>\n",
       "    <tr style=\"text-align: right;\">\n",
       "      <th></th>\n",
       "      <th>(4, 0, 17)</th>\n",
       "      <th>(8, 0, 17)</th>\n",
       "      <th>(12, 0, 17)</th>\n",
       "      <th>(16, 0, 17)</th>\n",
       "      <th>(20, 0, 17)</th>\n",
       "      <th>(24, 0, 17)</th>\n",
       "      <th>(28, 0, 17)</th>\n",
       "      <th>(32, 0, 17)</th>\n",
       "      <th>(36, 0, 17)</th>\n",
       "    </tr>\n",
       "  </thead>\n",
       "  <tbody>\n",
       "    <tr>\n",
       "      <th>eps_z= 0.1</th>\n",
       "      <td>(626, 9374)</td>\n",
       "      <td>(621, 9379)</td>\n",
       "      <td>(612, 9388)</td>\n",
       "      <td>(599, 9401)</td>\n",
       "      <td>(576, 9424)</td>\n",
       "      <td>(560, 9440)</td>\n",
       "      <td>(531, 9469)</td>\n",
       "      <td>(501, 9499)</td>\n",
       "      <td>(476, 9524)</td>\n",
       "    </tr>\n",
       "    <tr>\n",
       "      <th>eps_z= 0.2</th>\n",
       "      <td>(947, 9053)</td>\n",
       "      <td>(933, 9067)</td>\n",
       "      <td>(852, 9148)</td>\n",
       "      <td>(784, 9216)</td>\n",
       "      <td>(718, 9282)</td>\n",
       "      <td>(632, 9368)</td>\n",
       "      <td>(550, 9450)</td>\n",
       "      <td>(487, 9513)</td>\n",
       "      <td>(428, 9572)</td>\n",
       "    </tr>\n",
       "    <tr>\n",
       "      <th>eps_z= 0.6931471805599453</th>\n",
       "      <td>(2677, 7323)</td>\n",
       "      <td>(2355, 7645)</td>\n",
       "      <td>(1877, 8123)</td>\n",
       "      <td>(1371, 8629)</td>\n",
       "      <td>(906, 9094)</td>\n",
       "      <td>(536, 9464)</td>\n",
       "      <td>(290, 9710)</td>\n",
       "      <td>(144, 9856)</td>\n",
       "      <td>(76, 9924)</td>\n",
       "    </tr>\n",
       "    <tr>\n",
       "      <th>eps_z= 1.3862943611198906</th>\n",
       "      <td>(4531, 5469)</td>\n",
       "      <td>(3799, 6201)</td>\n",
       "      <td>(2948, 7052)</td>\n",
       "      <td>(1978, 8022)</td>\n",
       "      <td>(943, 9057)</td>\n",
       "      <td>(301, 9699)</td>\n",
       "      <td>(78, 9922)</td>\n",
       "      <td>(21, 9979)</td>\n",
       "      <td>(8, 9992)</td>\n",
       "    </tr>\n",
       "    <tr>\n",
       "      <th>eps_z= 3.0</th>\n",
       "      <td>(7174, 2826)</td>\n",
       "      <td>(6247, 3753)</td>\n",
       "      <td>(4860, 5140)</td>\n",
       "      <td>(3125, 6875)</td>\n",
       "      <td>(963, 9037)</td>\n",
       "      <td>(67, 9933)</td>\n",
       "      <td>(7, 9993)</td>\n",
       "      <td>(0, 10000)</td>\n",
       "      <td>(0, 10000)</td>\n",
       "    </tr>\n",
       "    <tr>\n",
       "      <th>eps_z= 4</th>\n",
       "      <td>(8087, 1913)</td>\n",
       "      <td>(7194, 2806)</td>\n",
       "      <td>(5831, 4169)</td>\n",
       "      <td>(3773, 6227)</td>\n",
       "      <td>(969, 9031)</td>\n",
       "      <td>(23, 9977)</td>\n",
       "      <td>(0, 10000)</td>\n",
       "      <td>(0, 10000)</td>\n",
       "      <td>(0, 10000)</td>\n",
       "    </tr>\n",
       "    <tr>\n",
       "      <th>eps_z= 10</th>\n",
       "      <td>(9841, 159)</td>\n",
       "      <td>(9541, 459)</td>\n",
       "      <td>(8720, 1280)</td>\n",
       "      <td>(6627, 3373)</td>\n",
       "      <td>(977, 9023)</td>\n",
       "      <td>(0, 10000)</td>\n",
       "      <td>(0, 10000)</td>\n",
       "      <td>(0, 10000)</td>\n",
       "      <td>(0, 10000)</td>\n",
       "    </tr>\n",
       "    <tr>\n",
       "      <th>eps_z= 40</th>\n",
       "      <td>(10000, 0)</td>\n",
       "      <td>(10000, 0)</td>\n",
       "      <td>(9999, 1)</td>\n",
       "      <td>(9842, 158)</td>\n",
       "      <td>(983, 9017)</td>\n",
       "      <td>(0, 10000)</td>\n",
       "      <td>(0, 10000)</td>\n",
       "      <td>(0, 10000)</td>\n",
       "      <td>(0, 10000)</td>\n",
       "    </tr>\n",
       "  </tbody>\n",
       "</table>\n",
       "</div>"
      ],
      "text/plain": [
       "                             (4, 0, 17)    (8, 0, 17)   (12, 0, 17)  \\\n",
       "eps_z= 0.1                  (626, 9374)   (621, 9379)   (612, 9388)   \n",
       "eps_z= 0.2                  (947, 9053)   (933, 9067)   (852, 9148)   \n",
       "eps_z= 0.6931471805599453  (2677, 7323)  (2355, 7645)  (1877, 8123)   \n",
       "eps_z= 1.3862943611198906  (4531, 5469)  (3799, 6201)  (2948, 7052)   \n",
       "eps_z= 3.0                 (7174, 2826)  (6247, 3753)  (4860, 5140)   \n",
       "eps_z= 4                   (8087, 1913)  (7194, 2806)  (5831, 4169)   \n",
       "eps_z= 10                   (9841, 159)   (9541, 459)  (8720, 1280)   \n",
       "eps_z= 40                    (10000, 0)    (10000, 0)     (9999, 1)   \n",
       "\n",
       "                            (16, 0, 17)  (20, 0, 17)  (24, 0, 17)  \\\n",
       "eps_z= 0.1                  (599, 9401)  (576, 9424)  (560, 9440)   \n",
       "eps_z= 0.2                  (784, 9216)  (718, 9282)  (632, 9368)   \n",
       "eps_z= 0.6931471805599453  (1371, 8629)  (906, 9094)  (536, 9464)   \n",
       "eps_z= 1.3862943611198906  (1978, 8022)  (943, 9057)  (301, 9699)   \n",
       "eps_z= 3.0                 (3125, 6875)  (963, 9037)   (67, 9933)   \n",
       "eps_z= 4                   (3773, 6227)  (969, 9031)   (23, 9977)   \n",
       "eps_z= 10                  (6627, 3373)  (977, 9023)   (0, 10000)   \n",
       "eps_z= 40                   (9842, 158)  (983, 9017)   (0, 10000)   \n",
       "\n",
       "                           (28, 0, 17)  (32, 0, 17)  (36, 0, 17)  \n",
       "eps_z= 0.1                 (531, 9469)  (501, 9499)  (476, 9524)  \n",
       "eps_z= 0.2                 (550, 9450)  (487, 9513)  (428, 9572)  \n",
       "eps_z= 0.6931471805599453  (290, 9710)  (144, 9856)   (76, 9924)  \n",
       "eps_z= 1.3862943611198906   (78, 9922)   (21, 9979)    (8, 9992)  \n",
       "eps_z= 3.0                   (7, 9993)   (0, 10000)   (0, 10000)  \n",
       "eps_z= 4                    (0, 10000)   (0, 10000)   (0, 10000)  \n",
       "eps_z= 10                   (0, 10000)   (0, 10000)   (0, 10000)  \n",
       "eps_z= 40                   (0, 10000)   (0, 10000)   (0, 10000)  "
      ]
     },
     "execution_count": 10,
     "metadata": {},
     "output_type": "execute_result"
    }
   ],
   "source": [
    "pd.DataFrame(data=list_utility_10, index=index1, columns=columns1)"
   ]
  },
  {
   "cell_type": "code",
   "execution_count": 11,
   "id": "d5748f4f-0bd3-4112-b29d-a29384e656ed",
   "metadata": {},
   "outputs": [
    {
     "name": "stdout",
     "output_type": "stream",
     "text": [
      "\\begin{tabular}{lllll}\n",
      "\\toprule\n",
      "{} &    (4, 0, 17) &    (8, 0, 17) &   (12, 0, 17) &   (16, 0, 17) \\\\\n",
      "\\midrule\n",
      "eps\\_z= 0.1                &  (3611, 6389) &  (3565, 6435) &  (3501, 6499) &  (3405, 6595) \\\\\n",
      "eps\\_z= 0.2                &  (5169, 4831) &  (5001, 4999) &  (4727, 5273) &  (4382, 5618) \\\\\n",
      "eps\\_z= 0.6931471805599453 &   (9296, 704) &  (8888, 1112) &  (8054, 1946) &  (6693, 3307) \\\\\n",
      "eps\\_z= 1.3862943611198906 &    (9956, 44) &   (9862, 138) &   (9520, 480) &  (8240, 1760) \\\\\n",
      "eps\\_z= 3.0                &    (10000, 0) &     (9999, 1) &    (9980, 20) &   (9642, 358) \\\\\n",
      "eps\\_z= 4                  &    (10000, 0) &    (10000, 0) &     (9999, 1) &   (9859, 141) \\\\\n",
      "eps\\_z= 10                 &    (10000, 0) &    (10000, 0) &    (10000, 0) &     (9999, 1) \\\\\n",
      "eps\\_z= 40                 &    (10000, 0) &    (10000, 0) &    (10000, 0) &    (10000, 0) \\\\\n",
      "\\bottomrule\n",
      "\\end{tabular}\n",
      "\n"
     ]
    },
    {
     "name": "stderr",
     "output_type": "stream",
     "text": [
      "/var/folders/ln/474st4yn1571hxwpq8vtklx40000gn/T/ipykernel_22809/3069376699.py:2: FutureWarning: In future versions `DataFrame.to_latex` is expected to utilise the base implementation of `Styler.to_latex` for formatting and rendering. The arguments signature may therefore change. It is recommended instead to use `DataFrame.style.to_latex` which also contains additional functionality.\n",
      "  print(table2.to_latex())\n"
     ]
    }
   ],
   "source": [
    "table2 = table1.iloc[:,:4]\n",
    "print(table2.to_latex())"
   ]
  },
  {
   "cell_type": "code",
   "execution_count": 12,
   "id": "b37adf65-67b7-4136-a2db-e582dbfe50ba",
   "metadata": {},
   "outputs": [],
   "source": [
    "TN, FN, TP, FP = 0, 0, 0, 0\n",
    "T_Negative = []\n",
    "F_Negative = []\n",
    "T_Positive = []\n",
    "F_Positive = []\n",
    "\n",
    "for i in range(len(epsilon_z)):\n",
    "    for j in range(len(POI_data)):\n",
    "        if j < 4:\n",
    "            TN = TN + list_utility_10[i][j][0]\n",
    "            FP = FP + list_utility_10[i][j][1]\n",
    "        elif j > 4:\n",
    "            TP = TP + list_utility_10[i][j][1] \n",
    "            FN = FN + list_utility_10[i][j][0]    \n",
    "    T_Positive.append(TP/(Num*4))\n",
    "    T_Negative.append(TN/(Num*4))\n",
    "    F_Positive.append(FP/(Num*4))\n",
    "    F_Negative.append(FN/(Num*4))\n",
    "    TN, FN, TP, FP = 0, 0, 0, 0"
   ]
  },
  {
   "cell_type": "code",
   "execution_count": 13,
   "id": "8fb4d50c-3558-41ab-a661-95cfee024312",
   "metadata": {},
   "outputs": [
    {
     "name": "stdout",
     "output_type": "stream",
     "text": [
      "\\begin{tabular}{lrrrrrrrr}\n",
      "\\toprule\n",
      "{} &  varepsilon = 0.1 &  varepsilon = 0.2 &  varepsilon = 0.6931471805599453 &  varepsilon = 1.3862943611198906 &  varepsilon = 3.0 &  varepsilon = 4.0 &  varepsilon = 10.0 &  varepsilon = 40.0 \\\\\n",
      "\\midrule\n",
      "\\eta\\$ = 1.0   &          0.656979 &          0.662715 &                         0.703941 &                         0.744658 &          0.810516 &          0.840807 &           0.938185 &           0.998016 \\\\\n",
      "\\eta\\$ = 2.0   &          0.805439 &          0.808556 &                         0.844352 &                         0.874629 &          0.913555 &          0.929300 &           0.974322 &           0.999206 \\\\\n",
      "\\eta\\$ = 5.0   &          0.917021 &          0.917247 &                         0.945950 &                         0.965354 &          0.980686 &          0.985129 &           0.994957 &           0.999847 \\\\\n",
      "\\eta\\$ = 10.0  &          0.940046 &          0.939578 &                         0.966512 &                         0.983389 &          0.993595 &          0.995705 &           0.998697 &           0.999961 \\\\\n",
      "\\eta\\$ = 100.0 &          0.948216 &          0.947494 &                         0.973775 &                         0.989735 &          0.998104 &          0.999387 &           0.999987 &           1.000000 \\\\\n",
      "\\bottomrule\n",
      "\\end{tabular}\n",
      "\n"
     ]
    },
    {
     "name": "stderr",
     "output_type": "stream",
     "text": [
      "/var/folders/ln/474st4yn1571hxwpq8vtklx40000gn/T/ipykernel_22809/2694989525.py:19: FutureWarning: In future versions `DataFrame.to_latex` is expected to utilise the base implementation of `Styler.to_latex` for formatting and rendering. The arguments signature may therefore change. It is recommended instead to use `DataFrame.style.to_latex` which also contains additional functionality.\n",
      "  print(score.to_latex())\n"
     ]
    }
   ],
   "source": [
    "f_score = []\n",
    "temp_list = []\n",
    "    \n",
    "for j in range(len(beta)):\n",
    "    for i in range(len(epsilon_z)):\n",
    "        temp_list.append(((1+beta[j]**2) * T_Positive[i]) / ((1+beta[j]**2)*T_Positive[i] + (beta[j]**2)* F_Negative[i] + F_Positive[i]))\n",
    "    f_score.append(temp_list)\n",
    "    temp_list = []\n",
    "    \n",
    "beta1 = []\n",
    "for i in range(len(beta)):\n",
    "    beta1.append(\"$\\beta$ = \"+str(beta[i]))\n",
    "    \n",
    "col = []\n",
    "for i in range(len(epsilon_z)):\n",
    "    col.append(\"varepsilon = \"+str(epsilon_z[i]*2.0))\n",
    "\n",
    "score = pd.DataFrame(data=f_score, index=beta1, columns=col)\n",
    "print(score.to_latex())"
   ]
  },
  {
   "cell_type": "code",
   "execution_count": null,
   "id": "db74e7bc-e8b0-40cf-8596-d2591ed11094",
   "metadata": {},
   "outputs": [],
   "source": []
  },
  {
   "cell_type": "code",
   "execution_count": null,
   "id": "b807d923-d674-477f-9ae9-d8de2fb56301",
   "metadata": {},
   "outputs": [],
   "source": []
  },
  {
   "cell_type": "code",
   "execution_count": 3,
   "id": "95a21aef-51ab-4889-833c-777c36c253cd",
   "metadata": {},
   "outputs": [
    {
     "data": {
      "text/html": [
       "<div>\n",
       "<style scoped>\n",
       "    .dataframe tbody tr th:only-of-type {\n",
       "        vertical-align: middle;\n",
       "    }\n",
       "\n",
       "    .dataframe tbody tr th {\n",
       "        vertical-align: top;\n",
       "    }\n",
       "\n",
       "    .dataframe thead th {\n",
       "        text-align: right;\n",
       "    }\n",
       "</style>\n",
       "<table border=\"1\" class=\"dataframe\">\n",
       "  <thead>\n",
       "    <tr style=\"text-align: right;\">\n",
       "      <th></th>\n",
       "      <th>$\\varepsilon$=0.1 $\\varepsilon$=0.2 $\\varepsilon$=$\\ln(2)$ $\\varepsilon$ = $\\ln(4)$ $\\varepsilon$=3.0 $\\varepsilon$=4.0 $\\varepsilon$=10.0 $\\varepsilon$=40.0</th>\n",
       "    </tr>\n",
       "  </thead>\n",
       "  <tbody>\n",
       "    <tr>\n",
       "      <th>0</th>\n",
       "      <td>$\\beta$=1.0 0.599801 0.636664 0.840449 0.94037...</td>\n",
       "    </tr>\n",
       "    <tr>\n",
       "      <th>1</th>\n",
       "      <td>$\\beta$=2.0 0.660299 0.678234 0.850479 0.94248...</td>\n",
       "    </tr>\n",
       "    <tr>\n",
       "      <th>2</th>\n",
       "      <td>$\\beta$=5.0 0.698220 0.702948 0.855980 0.94362...</td>\n",
       "    </tr>\n",
       "    <tr>\n",
       "      <th>3</th>\n",
       "      <td>$\\beta$=10.0 0.705383 0.707506 0.856960 0.9438...</td>\n",
       "    </tr>\n",
       "    <tr>\n",
       "      <th>4</th>\n",
       "      <td>$\\beta$=100.0 0.707874 0.709084 0.857297 0.943...</td>\n",
       "    </tr>\n",
       "  </tbody>\n",
       "</table>\n",
       "</div>"
      ],
      "text/plain": [
       "   $\\varepsilon$=0.1 $\\varepsilon$=0.2 $\\varepsilon$=$\\ln(2)$ $\\varepsilon$ = $\\ln(4)$ $\\varepsilon$=3.0 $\\varepsilon$=4.0 $\\varepsilon$=10.0 $\\varepsilon$=40.0\n",
       "0  $\\beta$=1.0 0.599801 0.636664 0.840449 0.94037...                                                                                                            \n",
       "1  $\\beta$=2.0 0.660299 0.678234 0.850479 0.94248...                                                                                                            \n",
       "2  $\\beta$=5.0 0.698220 0.702948 0.855980 0.94362...                                                                                                            \n",
       "3  $\\beta$=10.0 0.705383 0.707506 0.856960 0.9438...                                                                                                            \n",
       "4  $\\beta$=100.0 0.707874 0.709084 0.857297 0.943...                                                                                                            "
      ]
     },
     "execution_count": 3,
     "metadata": {},
     "output_type": "execute_result"
    }
   ],
   "source": [
    "dataset2 = pd.read_table(\"fscore1_1.txt\")\n",
    "dataset2"
   ]
  },
  {
   "cell_type": "code",
   "execution_count": null,
   "id": "117f13e9-c6fa-4e21-b417-a986cfe01f7a",
   "metadata": {},
   "outputs": [],
   "source": []
  },
  {
   "cell_type": "code",
   "execution_count": null,
   "id": "e87ca4e4-37c8-4310-a722-5fde80c4e354",
   "metadata": {},
   "outputs": [],
   "source": []
  },
  {
   "cell_type": "code",
   "execution_count": null,
   "id": "12d220cf-3c3f-41c8-8ad7-edeafde34720",
   "metadata": {},
   "outputs": [],
   "source": []
  },
  {
   "cell_type": "code",
   "execution_count": null,
   "id": "cc838fc7-d1c1-4366-af6e-7d11ef5bceec",
   "metadata": {},
   "outputs": [],
   "source": []
  },
  {
   "cell_type": "code",
   "execution_count": null,
   "id": "2cb424cb-7b0d-4546-adfe-54d07be5432b",
   "metadata": {},
   "outputs": [],
   "source": []
  },
  {
   "cell_type": "code",
   "execution_count": null,
   "id": "d3c83739-1999-41b2-81aa-33460e45cc8a",
   "metadata": {},
   "outputs": [],
   "source": []
  },
  {
   "cell_type": "code",
   "execution_count": null,
   "id": "157cc4bf-14ca-47c7-bb82-d7a4b69268a2",
   "metadata": {},
   "outputs": [],
   "source": []
  },
  {
   "cell_type": "code",
   "execution_count": null,
   "id": "5fa33772-8fc4-4c2b-b097-62dccfaba0a2",
   "metadata": {},
   "outputs": [],
   "source": []
  },
  {
   "cell_type": "code",
   "execution_count": null,
   "id": "ca6bd8ed-9b4e-4a8a-884c-82670aea2ab6",
   "metadata": {},
   "outputs": [],
   "source": []
  },
  {
   "cell_type": "markdown",
   "id": "be0fb643-48fb-4fa1-8c4b-0fe7429589e5",
   "metadata": {},
   "source": [
    "効用関数10:1でF値のグラフ化に挑戦する"
   ]
  },
  {
   "cell_type": "code",
   "execution_count": 35,
   "id": "6c2ff5ae-6675-4a42-b11c-569e24f243bf",
   "metadata": {},
   "outputs": [],
   "source": [
    "TN, FN, TP, FP = 0, 0, 0, 0\n",
    "T_Negative = []\n",
    "F_Negative = []\n",
    "T_Positive = []\n",
    "F_Positive = []\n",
    "\n",
    "for i in range(len(epsilon_z)):\n",
    "    for j in range(len(POI_data)):\n",
    "        if j < 4:\n",
    "            TN = TN + list_utility_10[i][j][0]\n",
    "            FP = FP + list_utility_10[i][j][1]\n",
    "        elif j > 4:\n",
    "            TP = TP + list_utility_10[i][j][1] \n",
    "            FN = FN + list_utility_10[i][j][0]    \n",
    "    T_Positive.append(TP/(Num*4))\n",
    "    T_Negative.append(TN/(Num*4))\n",
    "    F_Positive.append(FP/(Num*4))\n",
    "    F_Negative.append(FN/(Num*4))\n",
    "    TN, FN, TP, FP = 0, 0, 0, 0"
   ]
  },
  {
   "cell_type": "code",
   "execution_count": 36,
   "id": "2cc070b5-e1d4-41ad-a8c2-c933a15f94ed",
   "metadata": {},
   "outputs": [
    {
     "data": {
      "text/plain": [
       "[[0.6564748982125339,\n",
       "  0.6625065731814198,\n",
       "  0.703050804533244,\n",
       "  0.7439370849090329,\n",
       "  0.8104388075154542,\n",
       "  0.8413871517907903,\n",
       "  0.9381303062995451,\n",
       "  0.9978795060496446],\n",
       " [0.8038147718237517,\n",
       "  0.8072618539085862,\n",
       "  0.8428355185829347,\n",
       "  0.873633463248226,\n",
       "  0.9134529578934362,\n",
       "  0.9293628422315872,\n",
       "  0.9742980182778308,\n",
       "  0.9991507218863966],\n",
       " [0.914311968757179,\n",
       "  0.9149017782329392,\n",
       "  0.9438882978176861,\n",
       "  0.9641414908721919,\n",
       "  0.9805662072503323,\n",
       "  0.984809277089933,\n",
       "  0.9949525292841316,\n",
       "  0.9998365651768462],\n",
       " [0.9370873659664051,\n",
       "  0.9369912373284897,\n",
       "  0.9643302237701388,\n",
       "  0.9821309386267917,\n",
       "  0.9934715069568514,\n",
       "  0.9953079985972826,\n",
       "  0.998695762662424,\n",
       "  0.9999579225626645],\n",
       " [0.9451668548975335,\n",
       "  0.9448194621946284,\n",
       "  0.9715507785137932,\n",
       "  0.988460010310991,\n",
       "  0.9979788056855692,\n",
       "  0.998962577609269,\n",
       "  0.9999868114928071,\n",
       "  0.9999995750426763]]"
      ]
     },
     "execution_count": 36,
     "metadata": {},
     "output_type": "execute_result"
    }
   ],
   "source": [
    "f_score = []\n",
    "temp_list = []\n",
    "    \n",
    "for j in range(len(beta)):\n",
    "    for i in range(len(epsilon_z)):\n",
    "        temp_list.append(((1+beta[j]**2) * T_Positive[i]) / ((1+beta[j]**2)*T_Positive[i] + (beta[j]**2)* F_Negative[i] + F_Positive[i]))\n",
    "    f_score.append(temp_list)\n",
    "    temp_list = []\n",
    "f_score"
   ]
  },
  {
   "cell_type": "code",
   "execution_count": 37,
   "id": "93244c38-2549-45ca-ba39-1eb5241dc84b",
   "metadata": {},
   "outputs": [
    {
     "data": {
      "text/plain": [
       "[0.1, 0.2, 0.6931471805599453, 1.3862943611198906, 3.0, 4.0, 10.0, 40.0]"
      ]
     },
     "execution_count": 37,
     "metadata": {},
     "output_type": "execute_result"
    }
   ],
   "source": [
    "eps = []\n",
    "for i in range(len(epsilon_z)):\n",
    "    eps.append(epsilon_z[i]*2.0)\n",
    "eps"
   ]
  },
  {
   "cell_type": "code",
   "execution_count": 38,
   "id": "f527dc79-a2e4-4b42-a5b9-5f9b3a36b346",
   "metadata": {},
   "outputs": [
    {
     "name": "stdout",
     "output_type": "stream",
     "text": [
      "[1.0, 2.0, 5.0, 10.0, 100.0]\n"
     ]
    }
   ],
   "source": [
    "print(beta)"
   ]
  },
  {
   "cell_type": "code",
   "execution_count": 44,
   "id": "0dc0a311-7daf-43e2-a104-b33aa7e72539",
   "metadata": {},
   "outputs": [
    {
     "data": {
      "image/png": "[encoded data removed]",
      "text/plain": [
       "<Figure size 640x480 with 1 Axes>"
      ]
     },
     "metadata": {},
     "output_type": "display_data"
    }
   ],
   "source": [
    "fig, ax = plt.subplots()\n",
    "ax.plot(eps, f_score[0])\n",
    "plt.minorticks_on()\n",
    "plt.grid()\n",
    "plt.show()"
   ]
  },
  {
   "cell_type": "code",
   "execution_count": 22,
   "id": "0a056a48-8331-43c1-9a40-6d5f024691ee",
   "metadata": {},
   "outputs": [
    {
     "data": {
      "text/plain": [
       "[[0.6564748982125339,\n",
       "  0.8038147718237517,\n",
       "  0.914311968757179,\n",
       "  0.9370873659664051,\n",
       "  0.9451668548975335],\n",
       " [0.6625065731814198,\n",
       "  0.8072618539085862,\n",
       "  0.9149017782329392,\n",
       "  0.9369912373284897,\n",
       "  0.9448194621946284],\n",
       " [0.703050804533244,\n",
       "  0.8428355185829347,\n",
       "  0.9438882978176861,\n",
       "  0.9643302237701388,\n",
       "  0.9715507785137932],\n",
       " [0.7439370849090329,\n",
       "  0.873633463248226,\n",
       "  0.9641414908721919,\n",
       "  0.9821309386267917,\n",
       "  0.988460010310991],\n",
       " [0.8104388075154542,\n",
       "  0.9134529578934362,\n",
       "  0.9805662072503323,\n",
       "  0.9934715069568514,\n",
       "  0.9979788056855692],\n",
       " [0.8413871517907903,\n",
       "  0.9293628422315872,\n",
       "  0.984809277089933,\n",
       "  0.9953079985972826,\n",
       "  0.998962577609269],\n",
       " [0.9381303062995451,\n",
       "  0.9742980182778308,\n",
       "  0.9949525292841316,\n",
       "  0.998695762662424,\n",
       "  0.9999868114928071],\n",
       " [0.9978795060496446,\n",
       "  0.9991507218863966,\n",
       "  0.9998365651768462,\n",
       "  0.9999579225626645,\n",
       "  0.9999995750426763]]"
      ]
     },
     "execution_count": 22,
     "metadata": {},
     "output_type": "execute_result"
    }
   ],
   "source": [
    "f_score1 = []\n",
    "temp_list = []\n",
    "\n",
    "for i in range(len(epsilon_z)):\n",
    "    for j in range(len(beta)):\n",
    "        temp_list.append(((1+beta[j]**2) * T_Positive[i]) / ((1+beta[j]**2)*T_Positive[i] + (beta[j]**2)* F_Negative[i] + F_Positive[i]))\n",
    "    f_score1.append(temp_list)\n",
    "    temp_list = []\n",
    "f_score1"
   ]
  },
  {
   "cell_type": "code",
   "execution_count": 26,
   "id": "6facb750-e88c-4086-97d3-870169f3a64e",
   "metadata": {},
   "outputs": [
    {
     "data": {
      "image/png": "[encoded data removed]",
      "text/plain": [
       "<Figure size 640x480 with 1 Axes>"
      ]
     },
     "metadata": {},
     "output_type": "display_data"
    }
   ],
   "source": [
    "fig, ax = plt.subplots()\n",
    "ax.plot(eps, f_score1)\n",
    "plt.minorticks_on()\n",
    "plt.grid()\n",
    "plt.show()"
   ]
  },
  {
   "cell_type": "markdown",
   "id": "3db9a9f0-986d-44e3-9013-9a118c331367",
   "metadata": {},
   "source": [
    "### ここからちゃんとやる"
   ]
  },
  {
   "cell_type": "code",
   "execution_count": 38,
   "id": "7ca88847-4e18-4bb7-9a1b-eefcad2c3b40",
   "metadata": {},
   "outputs": [],
   "source": [
    "beta1_list = []\n",
    "beta2_list = []\n",
    "beta5_list = []\n",
    "beta10_list = []\n",
    "beta100_list = []\n",
    "\n",
    "eps01_list = []\n",
    "eps02_list = []\n",
    "eps07_list = []\n",
    "eps14_list = []\n",
    "eps30_list = []\n",
    "eps40_list = []\n",
    "eps100_list = []\n",
    "eps400_list = []"
   ]
  },
  {
   "cell_type": "code",
   "execution_count": 39,
   "id": "59460cc1-4f3c-4874-a34e-a9aecd8fb375",
   "metadata": {},
   "outputs": [],
   "source": [
    "TN, FN, TP, FP = 0, 0, 0, 0\n",
    "T_Negative = []\n",
    "F_Negative = []\n",
    "T_Positive = []\n",
    "F_Positive = []\n",
    "\n",
    "for i in range(len(epsilon_z)):\n",
    "    for j in range(len(POI_data)):\n",
    "        if j < 4:\n",
    "            TN = TN + list_utility_10[i][j][0]\n",
    "            FP = FP + list_utility_10[i][j][1]\n",
    "        elif j > 4:\n",
    "            TP = TP + list_utility_10[i][j][1] \n",
    "            FN = FN + list_utility_10[i][j][0]    \n",
    "    T_Positive.append(TP/(Num*4))\n",
    "    T_Negative.append(TN/(Num*4))\n",
    "    F_Positive.append(FP/(Num*4))\n",
    "    F_Negative.append(FN/(Num*4))\n",
    "    TN, FN, TP, FP = 0, 0, 0, 0"
   ]
  },
  {
   "cell_type": "code",
   "execution_count": 40,
   "id": "e08fcdbb-27b9-4a0a-8366-67349c1e2893",
   "metadata": {},
   "outputs": [],
   "source": [
    "f_score = []\n",
    "temp_list = []\n",
    "    \n",
    "for j in range(len(beta)):\n",
    "    for i in range(len(epsilon_z)):\n",
    "        temp_list.append(((1+beta[j]**2) * T_Positive[i]) / ((1+beta[j]**2)*T_Positive[i] + (beta[j]**2)* F_Negative[i] + F_Positive[i]))\n",
    "    f_score.append(temp_list)\n",
    "    temp_list = []"
   ]
  },
  {
   "cell_type": "code",
   "execution_count": 41,
   "id": "c87e1922-239f-4d5d-bbbb-3ed9e50f79b9",
   "metadata": {},
   "outputs": [],
   "source": [
    "eps = []\n",
    "for i in range(len(epsilon_z)):\n",
    "    eps.append(epsilon_z[i]*2.0)"
   ]
  },
  {
   "cell_type": "code",
   "execution_count": 42,
   "id": "6852d3e0-7d3a-4a56-add4-000a20e62bf2",
   "metadata": {},
   "outputs": [],
   "source": [
    "for i in range(len(f_score[0])):\n",
    "    beta1_list.append(f_score[0][i])\n",
    "for i in range(len(f_score[1])):\n",
    "    beta2_list.append(f_score[1][i])\n",
    "for i in range(len(f_score[2])):\n",
    "    beta5_list.append(f_score[2][i])\n",
    "for i in range(len(f_score[3])):\n",
    "    beta10_list.append(f_score[3][i])\n",
    "for i in range(len(f_score[4])):\n",
    "    beta100_list.append(f_score[4][i])"
   ]
  },
  {
   "cell_type": "code",
   "execution_count": 44,
   "id": "b44bb52e-e230-441b-9442-19dac78003bd",
   "metadata": {},
   "outputs": [
    {
     "data": {
      "image/png": "[encoded data removed]",
      "text/plain": [
       "<Figure size 640x480 with 1 Axes>"
      ]
     },
     "metadata": {},
     "output_type": "display_data"
    }
   ],
   "source": [
    "fig, ax = plt.subplots()\n",
    "c1,c2,c3,c4,c5 = \"blue\",\"orange\",\"green\",\"red\",\"purple\"\n",
    "l1,l2,l3,l4,l5 = \"\\u03b2 = 1.0\", \"\\u03b2 = 2.0\", \"\\u03b2 = 5.0\", \"\\u03b2 = 10.0\", \"\\u03b2 = 100.0\"\n",
    "\n",
    "ax.set_xlabel('$\\u03b5$')\n",
    "ax.set_ylabel('$F_\\u03b2$'+'-score')\n",
    "ax.set_ylim([0.55, 1])  \n",
    "ax.grid()\n",
    "ax.plot(eps, beta1_list, color=c1, label=l1)\n",
    "ax.plot(eps, beta2_list, color=c2, label=l2)\n",
    "ax.plot(eps, beta5_list, color=c3, label=l3)\n",
    "ax.plot(eps, beta10_list, color=c4, label=l4)\n",
    "ax.plot(eps, beta100_list, color=c5, label=l5)\n",
    "ax.legend(loc=0)\n",
    "fig.tight_layout()\n",
    "plt.savefig('eps-fbeta10.png')\n",
    "plt.show()"
   ]
  },
  {
   "cell_type": "code",
   "execution_count": null,
   "id": "771b8ea3-c608-42fb-b11f-ebdd02d88461",
   "metadata": {},
   "outputs": [],
   "source": []
  },
  {
   "cell_type": "code",
   "execution_count": 45,
   "id": "c394743f-5411-4b26-9870-75d6d4376083",
   "metadata": {},
   "outputs": [],
   "source": [
    "f_score1 = []\n",
    "temp_list = []\n",
    "\n",
    "for i in range(len(epsilon_z)):\n",
    "    for j in range(len(beta)):\n",
    "        temp_list.append(((1+beta[j]**2) * T_Positive[i]) / ((1+beta[j]**2)*T_Positive[i] + (beta[j]**2)* F_Negative[i] + F_Positive[i]))\n",
    "    f_score1.append(temp_list)\n",
    "    temp_list = []"
   ]
  },
  {
   "cell_type": "code",
   "execution_count": 46,
   "id": "488d99b5-7a5c-45be-bc41-d0c4e5ffbbe4",
   "metadata": {},
   "outputs": [],
   "source": [
    "for i in range(len(f_score1[0])):\n",
    "    eps01_list.append(f_score1[0][i])\n",
    "for i in range(len(f_score1[1])):\n",
    "    eps02_list.append(f_score1[1][i])\n",
    "for i in range(len(f_score1[2])):\n",
    "    eps07_list.append(f_score1[2][i])\n",
    "for i in range(len(f_score1[3])):\n",
    "    eps14_list.append(f_score1[3][i])\n",
    "for i in range(len(f_score1[4])):\n",
    "    eps30_list.append(f_score1[4][i])\n",
    "for i in range(len(f_score1[5])):\n",
    "    eps40_list.append(f_score1[5][i])\n",
    "for i in range(len(f_score1[6])):\n",
    "    eps100_list.append(f_score1[6][i])\n",
    "for i in range(len(f_score1[7])):\n",
    "    eps400_list.append(f_score1[7][i])"
   ]
  },
  {
   "cell_type": "code",
   "execution_count": 47,
   "id": "8912c41e-d864-4916-8fa1-00aec5c8d966",
   "metadata": {},
   "outputs": [
    {
     "data": {
      "image/png": "[encoded data removed]",
      "text/plain": [
       "<Figure size 640x480 with 1 Axes>"
      ]
     },
     "metadata": {},
     "output_type": "display_data"
    }
   ],
   "source": [
    "fig, ax = plt.subplots()\n",
    "c1,c2,c3,c4,c5,c6,c7,c8 = \"blue\",\"orange\",\"green\",\"red\",\"purple\",\"brown\",\"pink\",\"cyan\"\n",
    "l1,l2,l3,l4,l5,l6,l7,l8 = \"\\u03b5 = 0.1\", \"\\u03b5 = 0.2\", \"\\u03b5 = ln(2)\", \"\\u03b5 = ln(4)\", \"\\u03b5 = 3.0\", \"\\u03b5 = 4.0\", \"\\u03b5 = 10.0\", \"\\u03b5 = 40.0\"\n",
    "\n",
    "ax.set_xlabel('$\\u03b2$')\n",
    "ax.set_ylabel('$F_\\u03b2$'+'-score')\n",
    "ax.grid()\n",
    "ax.set_xlim(0,10)\n",
    "ax.set_ylim([0.55, 1]) \n",
    "ax.plot(beta, eps01_list, color=c1, label=l1)\n",
    "ax.plot(beta, eps02_list, color=c2, label=l2)\n",
    "ax.plot(beta, eps07_list, color=c3, label=l3)\n",
    "ax.plot(beta, eps14_list, color=c4, label=l4)\n",
    "ax.plot(beta, eps30_list, color=c5, label=l5)\n",
    "ax.plot(beta, eps40_list, color=c6, label=l6)\n",
    "ax.plot(beta, eps100_list, color=c7, label=l7)\n",
    "ax.plot(beta, eps400_list, color=c8, label=l8)\n",
    "ax.legend(loc=0)\n",
    "fig.tight_layout()\n",
    "plt.savefig('beta-fbeta10_.png')\n",
    "plt.show()"
   ]
  },
  {
   "cell_type": "markdown",
   "id": "41dd0f9b-06bb-43bb-95a2-1809a20d8bac",
   "metadata": {},
   "source": [
    "### 1:1のパターン"
   ]
  },
  {
   "cell_type": "code",
   "execution_count": 48,
   "id": "69f35cd7-3ac6-4cc4-9658-c5388ae7764d",
   "metadata": {},
   "outputs": [],
   "source": [
    "beta1_list = []\n",
    "beta2_list = []\n",
    "beta5_list = []\n",
    "beta10_list = []\n",
    "beta100_list = []\n",
    "\n",
    "eps01_list = []\n",
    "eps02_list = []\n",
    "eps07_list = []\n",
    "eps14_list = []\n",
    "eps30_list = []\n",
    "eps40_list = []\n",
    "eps100_list = []\n",
    "eps400_list = []"
   ]
  },
  {
   "cell_type": "code",
   "execution_count": 49,
   "id": "774c6511-b7c6-484e-a75c-a56b489a6d94",
   "metadata": {},
   "outputs": [],
   "source": [
    "TN, FN, TP, FP = 0, 0, 0, 0\n",
    "T_Negative = []\n",
    "F_Negative = []\n",
    "T_Positive = []\n",
    "F_Positive = []\n",
    "\n",
    "for i in range(len(epsilon_z)):\n",
    "    for j in range(len(POI_data)):\n",
    "        if j < 4:\n",
    "            TN = TN + list_utility_1[i][j][0]\n",
    "            FP = FP + list_utility_1[i][j][1]\n",
    "        elif j > 4:\n",
    "            TP = TP + list_utility_1[i][j][1] \n",
    "            FN = FN + list_utility_1[i][j][0]    \n",
    "    T_Positive.append(TP/(Num*4))\n",
    "    T_Negative.append(TN/(Num*4))\n",
    "    F_Positive.append(FP/(Num*4))\n",
    "    F_Negative.append(FN/(Num*4))\n",
    "    TN, FN, TP, FP = 0, 0, 0, 0"
   ]
  },
  {
   "cell_type": "code",
   "execution_count": 50,
   "id": "c47da12c-4302-48ff-b9b6-0c2b6be49f98",
   "metadata": {},
   "outputs": [],
   "source": [
    "f_score = []\n",
    "temp_list = []\n",
    "    \n",
    "for j in range(len(beta)):\n",
    "    for i in range(len(epsilon_z)):\n",
    "        temp_list.append(((1+beta[j]**2) * T_Positive[i]) / ((1+beta[j]**2)*T_Positive[i] + (beta[j]**2)* F_Negative[i] + F_Positive[i]))\n",
    "    f_score.append(temp_list)\n",
    "    temp_list = []"
   ]
  },
  {
   "cell_type": "code",
   "execution_count": 51,
   "id": "e0334c63-b8ad-4cf3-87c0-13af6e3f7a23",
   "metadata": {},
   "outputs": [],
   "source": [
    "for i in range(len(f_score[0])):\n",
    "    beta1_list.append(f_score[0][i])\n",
    "for i in range(len(f_score[1])):\n",
    "    beta2_list.append(f_score[1][i])\n",
    "for i in range(len(f_score[2])):\n",
    "    beta5_list.append(f_score[2][i])\n",
    "for i in range(len(f_score[3])):\n",
    "    beta10_list.append(f_score[3][i])\n",
    "for i in range(len(f_score[4])):\n",
    "    beta100_list.append(f_score[4][i])"
   ]
  },
  {
   "cell_type": "code",
   "execution_count": 52,
   "id": "1e68d400-19fc-4b8a-823e-b67e656a65d8",
   "metadata": {},
   "outputs": [
    {
     "data": {
      "image/png": "[encoded data removed]",
      "text/plain": [
       "<Figure size 640x480 with 1 Axes>"
      ]
     },
     "metadata": {},
     "output_type": "display_data"
    }
   ],
   "source": [
    "fig, ax = plt.subplots()\n",
    "c1,c2,c3,c4,c5 = \"blue\",\"orange\",\"green\",\"red\",\"purple\"\n",
    "l1,l2,l3,l4,l5 = \"\\u03b2 = 1.0\", \"\\u03b2 = 2.0\", \"\\u03b2 = 5.0\", \"\\u03b2 = 10.0\", \"\\u03b2 = 100.0\"\n",
    "\n",
    "ax.set_xlabel('$\\u03b5$')\n",
    "ax.set_ylabel('$F_\\u03b2$'+'-score')\n",
    "ax.grid()\n",
    "ax.set_ylim([0.55, 1]) \n",
    "ax.plot(eps, beta1_list, color=c1, label=l1)\n",
    "ax.plot(eps, beta2_list, color=c2, label=l2)\n",
    "ax.plot(eps, beta5_list, color=c3, label=l3)\n",
    "ax.plot(eps, beta10_list, color=c4, label=l4)\n",
    "ax.plot(eps, beta100_list, color=c5, label=l5)\n",
    "ax.legend(loc=0)\n",
    "fig.tight_layout()\n",
    "plt.savefig('eps-fbeta1.png')\n",
    "plt.show()"
   ]
  },
  {
   "cell_type": "code",
   "execution_count": 53,
   "id": "7fc0ae93-9ce0-457a-8ce1-b5922dd9736d",
   "metadata": {},
   "outputs": [],
   "source": [
    "f_score1 = []\n",
    "temp_list = []\n",
    "\n",
    "for i in range(len(epsilon_z)):\n",
    "    for j in range(len(beta)):\n",
    "        temp_list.append(((1+beta[j]**2) * T_Positive[i]) / ((1+beta[j]**2)*T_Positive[i] + (beta[j]**2)* F_Negative[i] + F_Positive[i]))\n",
    "    f_score1.append(temp_list)\n",
    "    temp_list = []"
   ]
  },
  {
   "cell_type": "code",
   "execution_count": 54,
   "id": "73a35d2f-a523-4d80-9d6a-cb0c9d483e68",
   "metadata": {},
   "outputs": [],
   "source": [
    "for i in range(len(f_score1[0])):\n",
    "    eps01_list.append(f_score1[0][i])\n",
    "for i in range(len(f_score1[1])):\n",
    "    eps02_list.append(f_score1[1][i])\n",
    "for i in range(len(f_score1[2])):\n",
    "    eps07_list.append(f_score1[2][i])\n",
    "for i in range(len(f_score1[3])):\n",
    "    eps14_list.append(f_score1[3][i])\n",
    "for i in range(len(f_score1[4])):\n",
    "    eps30_list.append(f_score1[4][i])\n",
    "for i in range(len(f_score1[5])):\n",
    "    eps40_list.append(f_score1[5][i])\n",
    "for i in range(len(f_score1[6])):\n",
    "    eps100_list.append(f_score1[6][i])\n",
    "for i in range(len(f_score1[7])):\n",
    "    eps400_list.append(f_score1[7][i])"
   ]
  },
  {
   "cell_type": "code",
   "execution_count": 55,
   "id": "947b6a47-b467-48d7-ac91-42d320a141ed",
   "metadata": {},
   "outputs": [
    {
     "data": {
      "image/png": "[encoded data removed]",
      "text/plain": [
       "<Figure size 640x480 with 1 Axes>"
      ]
     },
     "metadata": {},
     "output_type": "display_data"
    }
   ],
   "source": [
    "fig, ax = plt.subplots()\n",
    "c1,c2,c3,c4,c5,c6,c7,c8 = \"blue\",\"orange\",\"green\",\"red\",\"purple\",\"brown\",\"pink\",\"cyan\"\n",
    "l1,l2,l3,l4,l5,l6,l7,l8 = \"\\u03b5 = 0.1\", \"\\u03b5 = 0.2\", \"\\u03b5 = ln(2)\", \"\\u03b5 = ln(4)\", \"\\u03b5 = 3.0\", \"\\u03b5 = 4.0\", \"\\u03b5 = 10.0\", \"\\u03b5 = 40.0\"\n",
    "\n",
    "ax.set_xlabel('$\\u03b2$')\n",
    "ax.set_ylabel('$F_\\u03b2$'+'-score')\n",
    "ax.grid()\n",
    "ax.set_xlim(0,10)\n",
    "ax.set_ylim([0.55, 1]) \n",
    "ax.plot(beta, eps01_list, color=c1, label=l1)\n",
    "ax.plot(beta, eps02_list, color=c2, label=l2)\n",
    "ax.plot(beta, eps07_list, color=c3, label=l3)\n",
    "ax.plot(beta, eps14_list, color=c4, label=l4)\n",
    "ax.plot(beta, eps30_list, color=c5, label=l5)\n",
    "ax.plot(beta, eps40_list, color=c6, label=l6)\n",
    "ax.plot(beta, eps100_list, color=c7, label=l7)\n",
    "ax.plot(beta, eps400_list, color=c8, label=l8)\n",
    "ax.legend(loc=0)\n",
    "fig.tight_layout()\n",
    "plt.savefig('beta-fbeta1_.png')\n",
    "plt.show()"
   ]
  },
  {
   "cell_type": "code",
   "execution_count": null,
   "id": "405054be-9c5c-496b-b775-6d3acdc8c2c3",
   "metadata": {},
   "outputs": [],
   "source": []
  }
 ],
 "metadata": {
  "kernelspec": {
   "display_name": "Python 3 (ipykernel)",
   "language": "python",
   "name": "python3"
  },
  "language_info": {
   "codemirror_mode": {
    "name": "ipython",
    "version": 3
   },
   "file_extension": ".py",
   "mimetype": "text/x-python",
   "name": "python",
   "nbconvert_exporter": "python",
   "pygments_lexer": "ipython3",
   "version": "3.9.13"
  }
 },
 "nbformat": 4,
 "nbformat_minor": 5
}
