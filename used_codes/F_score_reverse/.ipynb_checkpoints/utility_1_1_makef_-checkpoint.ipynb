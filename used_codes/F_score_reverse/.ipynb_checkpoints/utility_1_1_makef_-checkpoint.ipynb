{
 "cells": [
  {
   "cell_type": "code",
   "execution_count": null,
   "id": "8a9f6013-372f-41b8-83cd-b22dee96e64d",
   "metadata": {},
   "outputs": [],
   "source": [
    "# モジュールの導入\n",
    "import numpy as np\n",
    "from scipy.special import lambertw as LW\n",
    "import matplotlib.pyplot as plt\n",
    "from mpl_toolkits.mplot3d import axes3d\n",
    "import statistics\n",
    "import pandas as pd"
   ]
  },
  {
   "cell_type": "code",
   "execution_count": null,
   "id": "e0ac468b-e84a-463d-a038-1e444dc89879",
   "metadata": {},
   "outputs": [],
   "source": [
    "# ユークリッド距離を返す関数\n",
    "def distance(Noise_x, Noise_y, POI_x, POI_y):\n",
    "    return np.sqrt( (Noise_x - POI_x)**2 + ( Noise_y - POI_y)**2 )"
   ]
  },
  {
   "cell_type": "code",
   "execution_count": null,
   "id": "d621f97d-fd5f-4c0a-b93c-06e040499c0a",
   "metadata": {},
   "outputs": [],
   "source": [
    "poi_true = 0\n",
    "poi_false = 0"
   ]
  },
  {
   "cell_type": "code",
   "execution_count": null,
   "id": "786a466d-af68-430e-bf55-f8ea549a97a0",
   "metadata": {},
   "outputs": [],
   "source": [
    "# POI検索関数\n",
    "def PointOfInterest(poi_true, poi_false, Num, real_data, POI_data,\n",
    "                   zx_list, zy_list, zt_list, verocity):\n",
    "    poi_true = 0\n",
    "    poi_false = 0\n",
    "    for i in range(Num):\n",
    "        t_ = real_data[2] + zt_list[i] + (distance(zx_list[0][i], zy_list[0][i], \n",
    "                                      POI_data[0], POI_data[1]) / verocity )\n",
    "        if ( POI_data[2] > t_ ):\n",
    "            poi_true += 1\n",
    "        else:\n",
    "            poi_false += 1\n",
    "    return poi_true, poi_false"
   ]
  },
  {
   "cell_type": "code",
   "execution_count": null,
   "id": "301b0160-393c-46fc-98ed-6250d25280df",
   "metadata": {},
   "outputs": [],
   "source": [
    "# 入力データ\n",
    "# 実際の時空間データ(位置(0,0), 12時に出発)\n",
    "real_data = [0, 0, 12]\n",
    "\n",
    "# POIデータ\n",
    "POI_data = [[16+(4*(0/6)),0,17],[16+(4*(1/6)),0,17],[16+(4*(2/6)),0,17]\n",
    "           ,[16+(4*(3/6)),0,17],[16+(4*(4/6)),0,17],[16+(4*(5/6)),0,17]\n",
    "           ,[20+(4*(1/6)),0,17],[20+(4*(2/6)),0,17],[20+(4*(3/6)),0,17]\n",
    "           ,[20+(4*(4/6)),0,17],[20+(4*(5/6)),0,17],[20+(4*(6/6)),0,17]]\n",
    "\n",
    "# 移動速度\n",
    "verocity = 4.0"
   ]
  },
  {
   "cell_type": "code",
   "execution_count": null,
   "id": "76bd1f4b-8b61-403b-8c89-2ae0801841a0",
   "metadata": {},
   "outputs": [],
   "source": [
    "# ランダム化された点の分布の数\n",
    "Num = 10000"
   ]
  },
  {
   "cell_type": "code",
   "execution_count": null,
   "id": "ed0d4d27-c2cb-4de5-bc0d-1222ad6ca880",
   "metadata": {},
   "outputs": [],
   "source": [
    "# POIの検索結果を格納するためのリスト\n",
    "POI_result_list = []\n",
    "POI_True_list = []\n",
    "POI_False_list = []\n",
    "\n",
    "# epsilonの値の定義\n",
    "epsilon_z = [0.05, 0.1, np.log(2)/2, np.log(4)/2, 1.5, 2, 5, 20]\n",
    "epsilon_t = []\n",
    "for i in range(len(epsilon_z)):\n",
    "    epsilon_t.append(epsilon_z[i] * verocity)"
   ]
  },
  {
   "cell_type": "code",
   "execution_count": null,
   "id": "48e0ef27-b626-4530-a2f4-f799689364a1",
   "metadata": {},
   "outputs": [],
   "source": [
    "zx_list = []\n",
    "zy_list = []\n",
    "zt_list = []"
   ]
  },
  {
   "cell_type": "code",
   "execution_count": null,
   "id": "07f11aa3-017c-4980-83c8-c1de8e45df3c",
   "metadata": {},
   "outputs": [],
   "source": [
    "# ノイズ生成\n",
    "theta = np.random.uniform(0,2*np.pi,Num)\n",
    "\n",
    "p_z = np.random.uniform(0,1,Num)\n",
    "p_t = np.random.uniform(0,1,Num)"
   ]
  },
  {
   "cell_type": "code",
   "execution_count": null,
   "id": "bca7a711-e90e-491b-bf02-419a28d23610",
   "metadata": {},
   "outputs": [],
   "source": [
    "# path_w = 'Utility_1_1.txt'\n",
    "list_first = []\n",
    "list_utility_1 = []"
   ]
  },
  {
   "cell_type": "code",
   "execution_count": null,
   "id": "84e864d1-3933-4e55-8a7b-d5c51133729e",
   "metadata": {},
   "outputs": [],
   "source": [
    "for i in range(len(epsilon_z)):\n",
    "    if epsilon_z[i] != 0:\n",
    "        for j in range(len(POI_data)):\n",
    "            for k in range(100):\n",
    "                W = LW( ((p_z - 1) / np.e), k = -1 )\n",
    "                r = ( -1 / epsilon_z[i] ) * ( W + 1 )\n",
    "                \n",
    "                zx = real_data[0] + r * np.cos(theta)\n",
    "                zx_list.append(np.array(zx))\n",
    "                zy = real_data[1] + r * np.sin(theta)\n",
    "                zy_list.append(np.array(zy))\n",
    "                \n",
    "                # EX ノイズを付与 1:1\n",
    "                pp = 1\n",
    "                for l in range(Num):\n",
    "                    if p_t[l] <= (1/(pp+1)):\n",
    "                        zt_list.append((2/epsilon_t[i]) * np.log((pp+1)*p_t[l]))\n",
    "                    elif p_t[j] < 1:\n",
    "                        zt_list.append(((2*pp)/epsilon_t[i]) * np.log( (pp/((pp+1)*(1-p_t[l])))) )\n",
    "                \n",
    "                POI_result_list.append(PointOfInterest(poi_true, poi_false, Num, real_data, POI_data[j],zx_list, zy_list, zt_list, verocity))\n",
    "                \n",
    "                zx_list = []\n",
    "                zy_list = []\n",
    "                zt_list = []\n",
    "            for m in range(100):\n",
    "                POI_True_list.append(POI_result_list[m][0])\n",
    "                POI_False_list.append(POI_result_list[m][1])\n",
    "            true_mean = statistics.mean(POI_True_list)\n",
    "            false_mean = statistics.mean(POI_False_list)\n",
    "            \"\"\"\n",
    "            with open(path_w, mode='a') as f:\n",
    "                f.write(\"POI -> \")\n",
    "                f.write(str(POI_data[j]))\n",
    "                f.write(\", epsilon(xy) = \")\n",
    "                f.write(str(epsilon_z[i]))\n",
    "                f.write(\",epsilon(t) = \")\n",
    "                f.write(str(epsilon_t[i]))\n",
    "                f.write(\"の時\\n\")\n",
    "                f.write(\"trueの平均値 = \")\n",
    "                f.write(str(true_mean))\n",
    "                f.write(\", falseの平均値 = \")\n",
    "                f.write(str(false_mean))\n",
    "                f.write(\"\\n\")\n",
    "            \"\"\"\n",
    "            list_first.append((true_mean,false_mean))\n",
    "            \n",
    "            # POIに関するリストの解放\n",
    "            POI_result_list = []\n",
    "            POI_True_list = []\n",
    "            POI_False_list = []\n",
    "        list_utility_1.append(list_first)\n",
    "        list_first = []\n",
    "print(\"done\")"
   ]
  },
  {
   "cell_type": "code",
   "execution_count": null,
   "id": "35303e5d-3312-4de5-8fbc-fe22fe5b6c88",
   "metadata": {},
   "outputs": [],
   "source": [
    "index1 = []\n",
    "columns1 = []\n",
    "for i in range(len(epsilon_z)):\n",
    "    index1.append(\"eps_z= \"+str(epsilon_z[i]*2))\n",
    "for i in range(len(POI_data)):\n",
    "    columns1.append(tuple(POI_data[i]))"
   ]
  },
  {
   "cell_type": "code",
   "execution_count": null,
   "id": "a7d9d6e3-1235-49fa-bedf-bd0d60d81ecd",
   "metadata": {},
   "outputs": [],
   "source": []
  }
 ],
 "metadata": {
  "kernelspec": {
   "display_name": "Python 3 (ipykernel)",
   "language": "python",
   "name": "python3"
  },
  "language_info": {
   "codemirror_mode": {
    "name": "ipython",
    "version": 3
   },
   "file_extension": ".py",
   "mimetype": "text/x-python",
   "name": "python",
   "nbconvert_exporter": "python",
   "pygments_lexer": "ipython3",
   "version": "3.9.13"
  }
 },
 "nbformat": 4,
 "nbformat_minor": 5
}
