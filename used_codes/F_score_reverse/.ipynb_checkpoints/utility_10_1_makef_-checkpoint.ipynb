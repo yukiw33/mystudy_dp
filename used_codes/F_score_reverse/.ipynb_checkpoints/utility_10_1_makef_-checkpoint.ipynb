{
 "cells": [
  {
   "cell_type": "code",
   "execution_count": null,
   "id": "d1e7f1f3-f4d6-402a-95b4-7259a0b5de90",
   "metadata": {},
   "outputs": [],
   "source": [
    "# モジュールの導入\n",
    "import numpy as np\n",
    "from scipy.special import lambertw as LW\n",
    "import matplotlib.pyplot as plt\n",
    "from mpl_toolkits.mplot3d import axes3d\n",
    "import statistics\n",
    "import pandas as pd"
   ]
  },
  {
   "cell_type": "code",
   "execution_count": null,
   "id": "a7172a75-aaa9-4781-b3e5-12012325e1d0",
   "metadata": {},
   "outputs": [],
   "source": [
    "# ユークリッド距離を返す関数\n",
    "def distance(Noise_x, Noise_y, POI_x, POI_y):\n",
    "    return np.sqrt( (Noise_x - POI_x)**2 + ( Noise_y - POI_y)**2 )"
   ]
  },
  {
   "cell_type": "code",
   "execution_count": null,
   "id": "bc8cdf67-b27f-4088-9912-6d7a2f60c80b",
   "metadata": {},
   "outputs": [],
   "source": [
    "poi_true = 0\n",
    "poi_false = 0"
   ]
  },
  {
   "cell_type": "code",
   "execution_count": null,
   "id": "0fb82700-a1b5-4bde-b0cb-7a79392c529e",
   "metadata": {},
   "outputs": [],
   "source": [
    "# POI検索関数\n",
    "def PointOfInterest(poi_true, poi_false, Num, real_data, POI_data,\n",
    "                   zx_list, zy_list, zt_list, verocity):\n",
    "    poi_true = 0\n",
    "    poi_false = 0\n",
    "    for i in range(Num):\n",
    "        t_ = real_data[2] + zt_list[i] + (distance(zx_list[0][i], zy_list[0][i], \n",
    "                                      POI_data[0], POI_data[1]) / verocity )\n",
    "        if ( POI_data[2] > t_ ):\n",
    "            poi_true += 1\n",
    "        else:\n",
    "            poi_false += 1\n",
    "    return poi_true, poi_false"
   ]
  },
  {
   "cell_type": "code",
   "execution_count": null,
   "id": "7dcd0edb-6fab-43c3-a981-d4e4a8a8e1e4",
   "metadata": {},
   "outputs": [],
   "source": [
    "# 入力データ\n",
    "# 実際の時空間データ(位置(0,0), 12時に出発)\n",
    "real_data = [0, 0, 12]\n",
    "\n",
    "# POIデータ\n",
    "POI_data = [[16+(4*(0/6)),0,17],[16+(4*(1/6)),0,17],[16+(4*(2/6)),0,17]\n",
    "           ,[16+(4*(3/6)),0,17],[16+(4*(4/6)),0,17],[16+(4*(5/6)),0,17]\n",
    "           ,[20+(4*(1/6)),0,17],[20+(4*(2/6)),0,17],[20+(4*(3/6)),0,17]\n",
    "           ,[20+(4*(4/6)),0,17],[20+(4*(5/6)),0,17],[20+(4*(6/6)),0,17]]\n",
    "\n",
    "# 移動速度\n",
    "verocity = 4.0"
   ]
  },
  {
   "cell_type": "code",
   "execution_count": null,
   "id": "9a87c39f-732b-435f-8cba-0b89ecfa12b4",
   "metadata": {},
   "outputs": [],
   "source": [
    "# ランダム化された点の分布の数\n",
    "Num = 10000"
   ]
  },
  {
   "cell_type": "code",
   "execution_count": null,
   "id": "5df47b12-3c58-4978-85c5-ba5eff431951",
   "metadata": {},
   "outputs": [],
   "source": [
    "# POIの検索結果を格納するためのリスト\n",
    "POI_result_list = []\n",
    "POI_True_list = []\n",
    "POI_False_list = []\n",
    "\n",
    "# epsilonの値の定義\n",
    "epsilon_z = [0.05, 0.1, np.log(2)/2, np.log(4)/2, 1.5, 2, 5, 20]\n",
    "epsilon_t = []\n",
    "for i in range(len(epsilon_z)):\n",
    "    epsilon_t.append(epsilon_z[i] * verocity)"
   ]
  },
  {
   "cell_type": "code",
   "execution_count": null,
   "id": "321a1796-a85d-423b-9bb7-f8e1cf3462af",
   "metadata": {},
   "outputs": [],
   "source": [
    "zx_list = []\n",
    "zy_list = []\n",
    "zt_list = []"
   ]
  },
  {
   "cell_type": "code",
   "execution_count": null,
   "id": "a75fa6c3-4b67-45e7-9bc1-096fb2c14050",
   "metadata": {},
   "outputs": [],
   "source": [
    "# ノイズ生成\n",
    "theta = np.random.uniform(0,2*np.pi,Num)\n",
    "\n",
    "p_z = np.random.uniform(0,1,Num)\n",
    "p_t = np.random.uniform(0,1,Num)"
   ]
  },
  {
   "cell_type": "code",
   "execution_count": null,
   "id": "c9a5edc1-75f4-4e87-b6c4-8b2f3aa6af4d",
   "metadata": {},
   "outputs": [],
   "source": [
    "list_first = []\n",
    "list_utility_10 = []"
   ]
  },
  {
   "cell_type": "code",
   "execution_count": null,
   "id": "6498b479-065d-4b26-bef2-2fb319b050d7",
   "metadata": {},
   "outputs": [],
   "source": [
    "for i in range(len(epsilon_z)):\n",
    "    if epsilon_z[i] != 0:\n",
    "        for j in range(len(POI_data)):\n",
    "            for k in range(100):\n",
    "                W = LW( ((p_z - 1) / np.e), k = -1 )\n",
    "                r = ( -1 / epsilon_z[i] ) * ( W + 1 )\n",
    "                \n",
    "                zx = real_data[0] + r * np.cos(theta)\n",
    "                zx_list.append(np.array(zx))\n",
    "                zy = real_data[1] + r * np.sin(theta)\n",
    "                zy_list.append(np.array(zy))\n",
    "                \n",
    "                # EX ノイズを付与 10:1\n",
    "                pp = 10\n",
    "                for l in range(Num):\n",
    "                    if p_t[l] <= (1/(pp+1)):\n",
    "                        zt_list.append((2/epsilon_t[i]) * np.log((pp+1)*p_t[l]))\n",
    "                    elif p_t[j] < 1:\n",
    "                        zt_list.append(((2*pp)/epsilon_t[i]) * np.log( (pp/((pp+1)*(1-p_t[l])))) )\n",
    "                \n",
    "                POI_result_list.append(PointOfInterest(poi_true, poi_false, Num, real_data, POI_data[j],zx_list, zy_list, zt_list, verocity))\n",
    "                \n",
    "                zx_list = []\n",
    "                zy_list = []\n",
    "                zt_list = []\n",
    "            for m in range(100):\n",
    "                POI_True_list.append(POI_result_list[m][0])\n",
    "                POI_False_list.append(POI_result_list[m][1])\n",
    "            true_mean = statistics.mean(POI_True_list)\n",
    "            false_mean = statistics.mean(POI_False_list)\n",
    "\n",
    "            list_first.append((true_mean,false_mean))\n",
    "            \n",
    "            # POIに関するリストの解放\n",
    "            POI_result_list = []\n",
    "            POI_True_list = []\n",
    "            POI_False_list = []\n",
    "        list_utility_10.append(list_first)\n",
    "        list_first = []\n",
    "print(\"done\")"
   ]
  },
  {
   "cell_type": "code",
   "execution_count": null,
   "id": "ad1a7c47-10e0-45e9-b231-77fb24d459b8",
   "metadata": {},
   "outputs": [],
   "source": [
    "index1 = []\n",
    "columns1 = []\n",
    "for i in range(len(epsilon_z)):\n",
    "    index1.append(\"eps_z= \"+str(epsilon_z[i]*2))\n",
    "for i in range(len(POI_data)):\n",
    "    columns1.append(tuple(POI_data[i]))"
   ]
  }
 ],
 "metadata": {
  "kernelspec": {
   "display_name": "Python 3 (ipykernel)",
   "language": "python",
   "name": "python3"
  },
  "language_info": {
   "codemirror_mode": {
    "name": "ipython",
    "version": 3
   },
   "file_extension": ".py",
   "mimetype": "text/x-python",
   "name": "python",
   "nbconvert_exporter": "python",
   "pygments_lexer": "ipython3",
   "version": "3.9.13"
  }
 },
 "nbformat": 4,
 "nbformat_minor": 5
}
