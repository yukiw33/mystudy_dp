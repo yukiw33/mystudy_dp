{
 "cells": [
  {
   "cell_type": "code",
   "execution_count": null,
   "id": "58cc90ab-1a6f-4990-883a-1563749680cf",
   "metadata": {},
   "outputs": [],
   "source": [
    "# モジュールの導入\n",
    "import numpy as np\n",
    "from scipy.special import lambertw as LW\n",
    "import matplotlib.pyplot as plt\n",
    "from mpl_toolkits.mplot3d import axes3d\n",
    "import statistics\n",
    "import pandas as pd"
   ]
  },
  {
   "cell_type": "code",
   "execution_count": null,
   "id": "5dbf5670-80aa-4b19-9f3f-d5f606af401f",
   "metadata": {},
   "outputs": [],
   "source": [
    "# ユークリッド距離を返す関数\n",
    "def distance(Noise_x, Noise_y, POI_x, POI_y):\n",
    "    return np.sqrt( (Noise_x - POI_x)**2 + ( Noise_y - POI_y)**2 )"
   ]
  },
  {
   "cell_type": "code",
   "execution_count": null,
   "id": "4a3e0b0e-362b-4d08-a66e-4903de2d56d1",
   "metadata": {},
   "outputs": [],
   "source": [
    "poi_true = 0\n",
    "poi_false = 0"
   ]
  },
  {
   "cell_type": "code",
   "execution_count": null,
   "id": "830674bb-4069-4570-a351-52f413f21fdd",
   "metadata": {},
   "outputs": [],
   "source": [
    "# POI検索関数\n",
    "def PointOfInterest(poi_true, poi_false, Num, real_data, POI_data,\n",
    "                   zx_list, zy_list, zt_list, verocity):\n",
    "    poi_true = 0\n",
    "    poi_false = 0\n",
    "    for i in range(Num):\n",
    "        t_ = real_data[2] + zt_list[i] + (distance(zx_list[0][i], zy_list[0][i], \n",
    "                                      POI_data[0], POI_data[1]) / verocity )\n",
    "        if ( POI_data[2] > t_ ):\n",
    "            poi_true += 1\n",
    "        else:\n",
    "            poi_false += 1\n",
    "    return poi_true, poi_false"
   ]
  },
  {
   "cell_type": "code",
   "execution_count": null,
   "id": "367a149a-bf5b-4c79-9494-028212e9c5f6",
   "metadata": {},
   "outputs": [],
   "source": [
    "# 入力データ\n",
    "# 実際の時空間データ(位置(0,0), 12時に出発)\n",
    "real_data = [0, 0, 12]\n",
    "\n",
    "# POIデータ\n",
    "POI_data = [[16+(4*(0/6)),0,17],[16+(4*(1/6)),0,17],[16+(4*(2/6)),0,17]\n",
    "           ,[16+(4*(3/6)),0,17],[16+(4*(4/6)),0,17],[16+(4*(5/6)),0,17]\n",
    "           ,[20+(4*(1/6)),0,17],[20+(4*(2/6)),0,17],[20+(4*(3/6)),0,17]\n",
    "           ,[20+(4*(4/6)),0,17],[20+(4*(5/6)),0,17],[20+(4*(6/6)),0,17]]\n",
    "\n",
    "# 移動速度\n",
    "verocity = 4.0"
   ]
  },
  {
   "cell_type": "code",
   "execution_count": null,
   "id": "99fb556c-fdb4-4b93-8dc2-92219a87e861",
   "metadata": {},
   "outputs": [],
   "source": [
    "# ランダム化された点の分布の数\n",
    "Num = 10000"
   ]
  },
  {
   "cell_type": "code",
   "execution_count": null,
   "id": "dcb012e9-20ec-424d-acee-43ff04fb3f4e",
   "metadata": {},
   "outputs": [],
   "source": [
    "# POIの検索結果を格納するためのリスト\n",
    "POI_result_list = []\n",
    "POI_True_list = []\n",
    "POI_False_list = []\n",
    "\n",
    "# epsilonの値の定義\n",
    "epsilon_z = [0.05, 0.1, np.log(2)/2, np.log(4)/2, 1.5, 2, 5, 20]\n",
    "epsilon_t = []\n",
    "for i in range(len(epsilon_z)):\n",
    "    epsilon_t.append(epsilon_z[i] * verocity)"
   ]
  },
  {
   "cell_type": "code",
   "execution_count": null,
   "id": "fac7bf97-ee6a-4b6f-be2f-c2159b4f51ca",
   "metadata": {},
   "outputs": [],
   "source": [
    "zx_list = []\n",
    "zy_list = []\n",
    "zt_list = []"
   ]
  },
  {
   "cell_type": "code",
   "execution_count": null,
   "id": "d44e49d4-d7df-4e04-b894-89ebdc953a20",
   "metadata": {},
   "outputs": [],
   "source": [
    "# ノイズ生成\n",
    "theta = np.random.uniform(0,2*np.pi,Num)\n",
    "\n",
    "p_z = np.random.uniform(0,1,Num)\n",
    "p_t = np.random.uniform(0,1,Num)"
   ]
  },
  {
   "cell_type": "code",
   "execution_count": null,
   "id": "d31af767-3b8c-40a0-87d5-c15da2a4b7de",
   "metadata": {},
   "outputs": [],
   "source": [
    "list_first = []\n",
    "list_utility_10 = []"
   ]
  },
  {
   "cell_type": "code",
   "execution_count": null,
   "id": "e6bed954-dabe-4500-b7e5-7d7fdbccfd6e",
   "metadata": {},
   "outputs": [],
   "source": [
    "for i in range(len(epsilon_z)):\n",
    "    if epsilon_z[i] != 0:\n",
    "        for j in range(len(POI_data)):\n",
    "            for k in range(100):\n",
    "                W = LW( ((p_z - 1) / np.e), k = -1 )\n",
    "                r = ( -1 / epsilon_z[i] ) * ( W + 1 )\n",
    "                \n",
    "                zx = real_data[0] + r * np.cos(theta)\n",
    "                zx_list.append(np.array(zx))\n",
    "                zy = real_data[1] + r * np.sin(theta)\n",
    "                zy_list.append(np.array(zy))\n",
    "                \n",
    "                # EX ノイズを付与 10:1\n",
    "                pp = 10\n",
    "                for l in range(Num):\n",
    "                    if p_t[l] <= (1/(pp+1)):\n",
    "                        zt_list.append(0)\n",
    "                        # zt_list.append((2/epsilon_t[i]) * np.log((pp+1)*p_t[l]))\n",
    "                    elif p_t[j] < 1:\n",
    "                        zt_list.append(0)\n",
    "                        # zt_list.append(((2*pp)/epsilon_t[i]) * np.log( (pp/((pp+1)*(1-p_t[l])))) )\n",
    "                \n",
    "                POI_result_list.append(PointOfInterest(poi_true, poi_false, Num, real_data, POI_data[j],zx_list, zy_list, zt_list, verocity))\n",
    "                \n",
    "                zx_list = []\n",
    "                zy_list = []\n",
    "                zt_list = []\n",
    "            for m in range(100):\n",
    "                POI_True_list.append(POI_result_list[m][0])\n",
    "                POI_False_list.append(POI_result_list[m][1])\n",
    "            true_mean = statistics.mean(POI_True_list)\n",
    "            false_mean = statistics.mean(POI_False_list)\n",
    "\n",
    "            list_first.append((true_mean,false_mean))\n",
    "            \n",
    "            # POIに関するリストの解放\n",
    "            POI_result_list = []\n",
    "            POI_True_list = []\n",
    "            POI_False_list = []\n",
    "        list_utility_10.append(list_first)\n",
    "        list_first = []\n",
    "print(\"done\")"
   ]
  },
  {
   "cell_type": "code",
   "execution_count": null,
   "id": "813fd9de-0cba-418e-8064-e1ae0ecd1875",
   "metadata": {},
   "outputs": [],
   "source": [
    "index1 = []\n",
    "columns1 = []\n",
    "for i in range(len(epsilon_z)):\n",
    "    index1.append(\"eps_z= \"+str(epsilon_z[i]*2))\n",
    "for i in range(len(POI_data)):\n",
    "    columns1.append(tuple(POI_data[i]))"
   ]
  },
  {
   "cell_type": "code",
   "execution_count": null,
   "id": "0c7c015b-c07d-49f0-a560-0f93f47bb0e3",
   "metadata": {},
   "outputs": [],
   "source": []
  }
 ],
 "metadata": {
  "kernelspec": {
   "display_name": "Python 3 (ipykernel)",
   "language": "python",
   "name": "python3"
  },
  "language_info": {
   "codemirror_mode": {
    "name": "ipython",
    "version": 3
   },
   "file_extension": ".py",
   "mimetype": "text/x-python",
   "name": "python",
   "nbconvert_exporter": "python",
   "pygments_lexer": "ipython3",
   "version": "3.9.13"
  }
 },
 "nbformat": 4,
 "nbformat_minor": 5
}
