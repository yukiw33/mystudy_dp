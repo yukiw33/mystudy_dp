{
 "cells": [
  {
   "cell_type": "code",
   "execution_count": null,
   "id": "e8e2ac5a-215d-449f-96fe-bae1aa49df58",
   "metadata": {},
   "outputs": [],
   "source": [
    "# モジュールの導入\n",
    "import numpy as np\n",
    "from scipy.special import lambertw as LW\n",
    "import matplotlib.pyplot as plt\n",
    "from mpl_toolkits.mplot3d import axes3d\n",
    "import statistics\n",
    "import pandas as pd"
   ]
  },
  {
   "cell_type": "code",
   "execution_count": null,
   "id": "f729cac8-a092-4527-8b50-3981120d8e54",
   "metadata": {},
   "outputs": [],
   "source": [
    "# ユークリッド距離を返す関数\n",
    "def distance(Noise_x, Noise_y, POI_x, POI_y):\n",
    "    return np.sqrt( (Noise_x - POI_x)**2 + ( Noise_y - POI_y)**2 )"
   ]
  },
  {
   "cell_type": "code",
   "execution_count": null,
   "id": "cd7bbbe4-5dd0-4254-a7a8-bc50aba65628",
   "metadata": {},
   "outputs": [],
   "source": [
    "poi_true = 0\n",
    "poi_false = 0"
   ]
  },
  {
   "cell_type": "code",
   "execution_count": null,
   "id": "c93880ea-4ffc-4882-8ce4-d39ca96f00bd",
   "metadata": {},
   "outputs": [],
   "source": [
    "# POI検索関数\n",
    "def PointOfInterest(poi_true, poi_false, Num, real_data, POI_data,\n",
    "                   zx_list, zy_list, zt_list, verocity):\n",
    "    poi_true = 0\n",
    "    poi_false = 0\n",
    "    for i in range(Num):\n",
    "        t_ = real_data[2] + zt_list[i] + (distance(zx_list[0][i], zy_list[0][i], \n",
    "                                      POI_data[0], POI_data[1]) / verocity )\n",
    "        if ( POI_data[2] > t_ ):\n",
    "            poi_true += 1\n",
    "        else:\n",
    "            poi_false += 1\n",
    "    return poi_true, poi_false"
   ]
  },
  {
   "cell_type": "code",
   "execution_count": null,
   "id": "3dac6a68-e083-4f86-be74-6d986cd4daaa",
   "metadata": {},
   "outputs": [],
   "source": [
    "# 入力データ\n",
    "# 実際の時空間データ(位置(0,0), 12時に出発)\n",
    "real_data = [0, 0, 12]\n",
    "\n",
    "# POIデータ\n",
    "POI_data = [[16+(4*(0/6)),0,17],[16+(4*(1/6)),0,17],[16+(4*(2/6)),0,17]\n",
    "           ,[16+(4*(3/6)),0,17],[16+(4*(4/6)),0,17],[16+(4*(5/6)),0,17]\n",
    "           ,[20+(4*(1/6)),0,17],[20+(4*(2/6)),0,17],[20+(4*(3/6)),0,17]\n",
    "           ,[20+(4*(4/6)),0,17],[20+(4*(5/6)),0,17],[20+(4*(6/6)),0,17]]\n",
    "\n",
    "# 移動速度\n",
    "verocity = 4.0"
   ]
  },
  {
   "cell_type": "code",
   "execution_count": null,
   "id": "3947fe7c-1bf9-4de8-a333-32a0fb61051a",
   "metadata": {},
   "outputs": [],
   "source": [
    "# ランダム化された点の分布の数\n",
    "Num = 10000"
   ]
  },
  {
   "cell_type": "code",
   "execution_count": null,
   "id": "1fe6c236-6ff0-4e42-925a-165003332457",
   "metadata": {},
   "outputs": [],
   "source": [
    "# POIの検索結果を格納するためのリスト\n",
    "POI_result_list = []\n",
    "POI_True_list = []\n",
    "POI_False_list = []\n",
    "\n",
    "# epsilonの値の定義\n",
    "epsilon_z = [0.05, 0.1, np.log(2)/2, np.log(4)/2, 1.5, 2, 5, 20]\n",
    "epsilon_t = []\n",
    "for i in range(len(epsilon_z)):\n",
    "    epsilon_t.append(epsilon_z[i] * verocity)"
   ]
  },
  {
   "cell_type": "code",
   "execution_count": null,
   "id": "f74bdfba-fb91-48f7-971b-f7cf008bf4c8",
   "metadata": {},
   "outputs": [],
   "source": [
    "zx_list = []\n",
    "zy_list = []\n",
    "zt_list = []"
   ]
  },
  {
   "cell_type": "code",
   "execution_count": null,
   "id": "6584868a-702e-4e7d-b406-4b6e2b4a62fa",
   "metadata": {},
   "outputs": [],
   "source": [
    "# ノイズ生成\n",
    "theta = np.random.uniform(0,2*np.pi,Num)\n",
    "\n",
    "p_z = np.random.uniform(0,1,Num)\n",
    "p_t = np.random.uniform(0,1,Num)"
   ]
  },
  {
   "cell_type": "code",
   "execution_count": null,
   "id": "289ccd4b-edf5-4538-b2e6-2aeac28c7260",
   "metadata": {},
   "outputs": [],
   "source": [
    "# path_w = 'Utility_1_1.txt'\n",
    "list_first = []\n",
    "list_utility_1 = []"
   ]
  },
  {
   "cell_type": "code",
   "execution_count": null,
   "id": "bfba42d5-e6a9-41d8-af7c-3131fcdfe61c",
   "metadata": {},
   "outputs": [],
   "source": [
    "for i in range(len(epsilon_z)):\n",
    "    if epsilon_z[i] != 0:\n",
    "        for j in range(len(POI_data)):\n",
    "            for k in range(100):\n",
    "                W = LW( ((p_z - 1) / np.e), k = -1 )\n",
    "                r = ( -1 / epsilon_z[i] ) * ( W + 1 )\n",
    "                \n",
    "                zx = real_data[0] + r * np.cos(theta)\n",
    "                zx_list.append(np.array(zx))\n",
    "                zy = real_data[1] + r * np.sin(theta)\n",
    "                zy_list.append(np.array(zy))\n",
    "                \n",
    "                # EX ノイズを付与 1:1\n",
    "                pp = 1\n",
    "                for l in range(Num):\n",
    "                    if p_t[l] <= (1/(pp+1)):\n",
    "                        zt_list.append(0)\n",
    "                        # zt_list.append((2/epsilon_t[i]) * np.log((pp+1)*p_t[l]))\n",
    "                    elif p_t[j] < 1:\n",
    "                        zt_list.append(0)\n",
    "                        # zt_list.append(((2*pp)/epsilon_t[i]) * np.log( (pp/((pp+1)*(1-p_t[l])))) )\n",
    "                \n",
    "                POI_result_list.append(PointOfInterest(poi_true, poi_false, Num, real_data, POI_data[j],zx_list, zy_list, zt_list, verocity))\n",
    "                \n",
    "                zx_list = []\n",
    "                zy_list = []\n",
    "                zt_list = []\n",
    "            for m in range(100):\n",
    "                POI_True_list.append(POI_result_list[m][0])\n",
    "                POI_False_list.append(POI_result_list[m][1])\n",
    "            true_mean = statistics.mean(POI_True_list)\n",
    "            false_mean = statistics.mean(POI_False_list)\n",
    "            \"\"\"\n",
    "            with open(path_w, mode='a') as f:\n",
    "                f.write(\"POI -> \")\n",
    "                f.write(str(POI_data[j]))\n",
    "                f.write(\", epsilon(xy) = \")\n",
    "                f.write(str(epsilon_z[i]))\n",
    "                f.write(\",epsilon(t) = \")\n",
    "                f.write(str(epsilon_t[i]))\n",
    "                f.write(\"の時\\n\")\n",
    "                f.write(\"trueの平均値 = \")\n",
    "                f.write(str(true_mean))\n",
    "                f.write(\", falseの平均値 = \")\n",
    "                f.write(str(false_mean))\n",
    "                f.write(\"\\n\")\n",
    "            \"\"\"\n",
    "            list_first.append((true_mean,false_mean))\n",
    "            \n",
    "            # POIに関するリストの解放\n",
    "            POI_result_list = []\n",
    "            POI_True_list = []\n",
    "            POI_False_list = []\n",
    "        list_utility_1.append(list_first)\n",
    "        list_first = []\n",
    "print(\"done\")"
   ]
  },
  {
   "cell_type": "code",
   "execution_count": null,
   "id": "2791952e-38dc-4f40-bda4-70756ed94313",
   "metadata": {},
   "outputs": [],
   "source": [
    "index1 = []\n",
    "columns1 = []\n",
    "for i in range(len(epsilon_z)):\n",
    "    index1.append(\"eps_z= \"+str(epsilon_z[i]*2))\n",
    "for i in range(len(POI_data)):\n",
    "    columns1.append(tuple(POI_data[i]))"
   ]
  },
  {
   "cell_type": "code",
   "execution_count": null,
   "id": "e467941e-4a97-490e-9196-b975abaa1d8f",
   "metadata": {},
   "outputs": [],
   "source": []
  }
 ],
 "metadata": {
  "kernelspec": {
   "display_name": "Python 3 (ipykernel)",
   "language": "python",
   "name": "python3"
  },
  "language_info": {
   "codemirror_mode": {
    "name": "ipython",
    "version": 3
   },
   "file_extension": ".py",
   "mimetype": "text/x-python",
   "name": "python",
   "nbconvert_exporter": "python",
   "pygments_lexer": "ipython3",
   "version": "3.9.13"
  }
 },
 "nbformat": 4,
 "nbformat_minor": 5
}
