{
 "cells": [
  {
   "cell_type": "markdown",
   "id": "d070fa24-00e1-4d51-b6b1-22ef88a156d6",
   "metadata": {},
   "source": [
    "## εのバランスを崩す\n",
    "\n",
    "εのバランスを崩して，今回構築したメカニズムが機能していることを確認する．\\\n",
    "ノイズの種類として，中度のプライバシーレベルと高度なプライバシーレベルの2つでそれぞれ確認する．\\\n",
    "この際の効用関数の比は2:1のものを使用している．\n",
    "### 中度のプライバシーレベル\n",
    "1. 正しいノイズ（ε_xy = 0.6, ε_t = 2.4）\n",
    "2. XYに厳しいノイズ(ε_xy = 0.001, ε_t = 4.476)\n",
    "3. Tに厳しいノイズ（ε_xy = 1.119, ε_t = 0.004）"
   ]
  },
  {
   "cell_type": "code",
   "execution_count": 1,
   "id": "086df005-11de-44de-86a4-17d3ff0ffde0",
   "metadata": {},
   "outputs": [],
   "source": [
    "# モジュールの導入\n",
    "import numpy as np\n",
    "from scipy.special import lambertw as LW\n",
    "import matplotlib.pyplot as plt\n",
    "from mpl_toolkits.mplot3d import axes3d\n",
    "import statistics"
   ]
  },
  {
   "cell_type": "code",
   "execution_count": 2,
   "id": "7616953f-eb7e-46d4-8c73-39c4d2d60351",
   "metadata": {},
   "outputs": [],
   "source": [
    "# ユークリッド距離を返す関数\n",
    "def distance(Noise_x, Noise_y, POI_x, POI_y):\n",
    "    return np.sqrt( (Noise_x - POI_x)**2 + (Noise_y - POI_y)**2 )"
   ]
  },
  {
   "cell_type": "code",
   "execution_count": 3,
   "id": "2d69d2ce-5a01-4345-ad38-8dc63312188b",
   "metadata": {},
   "outputs": [],
   "source": [
    "# POI検索関数\n",
    "def PointOfInterest(total_true, total_false, total_num, loc_info, POI_info,\n",
    "                   x_noise, y_noise, t_noise, moving_speed):\n",
    "    for times in range(total_num):\n",
    "        t_sum = loc_info[2] + t_noise[times] + (distance(x_noise[0][times], y_noise[0][times],\n",
    "                                                        POI_info[0], POI_info[1]) \n",
    "                                                / moving_speed)\n",
    "        if (POI_info[2] > t_sum):\n",
    "            total_true += 1\n",
    "        else:\n",
    "            total_false += 1\n",
    "    return total_true, total_false"
   ]
  },
  {
   "cell_type": "code",
   "execution_count": 4,
   "id": "0ead422b-8db9-4a10-9fbe-dca691960264",
   "metadata": {},
   "outputs": [],
   "source": [
    "# 入力データ\n",
    "# 実際の位置情報データ（時空間(x,y,t)）\n",
    "real_loc_info = [0, 0, 12]\n",
    "\n",
    "# POIデータ(時空間(x,y,t=閉館時刻))\n",
    "POI_loc_info = [[0, 0,17],[4, 0,17],[8, 0,17],\n",
    "                [12,0,17],[16,0,17],[20,0,17],\n",
    "                [24,0,17],[28,0,17],[32,0,17]]\n",
    "\n",
    "# 移動速度\n",
    "verocity = 4.0\n",
    "\n",
    "# ランダム化した点の総数\n",
    "total_num_points = 10000\n",
    "\n",
    "# EXメカニズムの効用関数の比 pp : 1\n",
    "pp = 10"
   ]
  },
  {
   "cell_type": "code",
   "execution_count": 5,
   "id": "3a140db3-193c-4090-b30a-eb188d30405f",
   "metadata": {},
   "outputs": [
    {
     "data": {
      "text/plain": [
       "[0.0, 1.0, 2.0, 3.0, 4.0, 5.0, 6.0, 7.0, 8.0]"
      ]
     },
     "execution_count": 5,
     "metadata": {},
     "output_type": "execute_result"
    }
   ],
   "source": [
    "# グラフ描画の際の横軸を用意する\n",
    "time_list = []\n",
    "for i in range(len(POI_loc_info)):\n",
    "    time_list.append(distance(real_loc_info[0], real_loc_info[1], \n",
    "                              POI_loc_info[i][0], POI_loc_info[i][1]) \n",
    "                     / verocity)\n",
    "time_list"
   ]
  },
  {
   "cell_type": "markdown",
   "id": "c50b2132-56aa-46f4-9cb1-aab48f421447",
   "metadata": {
    "tags": []
   },
   "source": [
    "#### 正しいノイズ（ε_xy = 0.6, ε_t = 2.4）"
   ]
  },
  {
   "cell_type": "code",
   "execution_count": 6,
   "id": "e00f7ae9-29af-4c18-b2d7-0b2f7cb75cad",
   "metadata": {},
   "outputs": [],
   "source": [
    "# POI検索プログラムによる出力（到達できるか否かを表す）\n",
    "poi_true_total_0  = 0\n",
    "poi_false_total_0 = 0\n",
    "make_graph0       = []\n",
    "path_w_0 = 'right_Balance_Noise0.txt'"
   ]
  },
  {
   "cell_type": "code",
   "execution_count": 7,
   "id": "6d7598a0-9939-4127-b5ce-901271fa7de3",
   "metadata": {},
   "outputs": [],
   "source": [
    "# ノイズを付与した座標を格納するためのリスト\n",
    "zx_list_0 = []\n",
    "zy_list_0 = []\n",
    "# ノイズを付与した時刻を格納するためのリスト\n",
    "zt_list_0 = []\n",
    "\n",
    "# POIの検索結果を格納するためのリスト\n",
    "POI_result_list_0 = []\n",
    "POI_True_list_0   = []\n",
    "POI_False_list_0  = []\n",
    "\n",
    "# epsilonの値の定義\n",
    "epsilon_z_0 = 0.6\n",
    "epsilon_t_0 = epsilon_z_0 * verocity"
   ]
  },
  {
   "cell_type": "code",
   "execution_count": 8,
   "id": "4cb3e393-8cae-423e-9e4d-a016b6206d5e",
   "metadata": {},
   "outputs": [
    {
     "name": "stdout",
     "output_type": "stream",
     "text": [
      "Number 1 is Done\n",
      "Number 2 is Done\n",
      "Number 3 is Done\n",
      "Number 4 is Done\n",
      "Number 5 is Done\n",
      "Number 6 is Done\n",
      "Number 7 is Done\n",
      "Number 8 is Done\n",
      "Number 9 is Done\n",
      "Finish\n"
     ]
    }
   ],
   "source": [
    "# ノイズを生成する\n",
    "# thetaを[0:2π)の範囲で一様分布にしたがって生成する\n",
    "theta = np.random.uniform(0,2*np.pi, total_num_points)\n",
    "\n",
    "# [0:1)の範囲で一様分布に従ったランダぷのいずを生成する\n",
    "p_z_0 = np.random.uniform(0,1,total_num_points)\n",
    "p_t_0 = np.random.uniform(0,1,total_num_points)\n",
    "\n",
    "for l in range(len(POI_loc_info)):\n",
    "    for i in range(100):\n",
    "        # 100回繰り返した平均を取得する\n",
    "        # PLノイズを付与\n",
    "        W = LW( ((p_z_0 - 1) / np.e), k = -1 )\n",
    "        r = ( -1 / epsilon_z_0 ) * ( W + 1 )\n",
    "        \n",
    "        zx = real_loc_info[0] + r * np.cos(theta)\n",
    "        zx_list_0.append(np.array(zx))\n",
    "        zy = real_loc_info[1] + r * np.sin(theta)\n",
    "        zy_list_0.append(np.array(zy))\n",
    "        \n",
    "        # EXノイズを付与\n",
    "        for j in range(total_num_points):\n",
    "            if p_t_0[j] <= (pp/(pp+1)):\n",
    "                zt_list_0.append( ((2*pp)/epsilon_t_0) * np.log( ((pp+1)*p_t_0[j]) / pp ))\n",
    "            else:\n",
    "                zt_list_0.append( (2/epsilon_t_0) * np.log( (1 / ((pp+1)*(1-p_t_0[j]))) ))\n",
    "        POI_result_list_0.append(PointOfInterest(\n",
    "            poi_true_total_0, poi_false_total_0, total_num_points,\n",
    "        real_loc_info, POI_loc_info[l], zx_list_0, zy_list_0, zt_list_0,\n",
    "        verocity))\n",
    "        \n",
    "        # ノイズを付与した値を格納するためのリストをクリアする\n",
    "        zx_list_0 = []\n",
    "        zy_list_0 = []\n",
    "        zt_list_0 = []\n",
    "        \n",
    "    for k in range(100):\n",
    "        POI_True_list_0.append(POI_result_list_0[k][0])\n",
    "        POI_False_list_0.append(POI_result_list_0[k][1])\n",
    "        \n",
    "    true_mean = statistics.mean(POI_True_list_0)\n",
    "    false_mean = statistics.mean(POI_False_list_0)\n",
    "    make_graph0.append(true_mean)\n",
    "    with open(path_w_0, mode='a') as f:\n",
    "        f.write(\"POI -> \")\n",
    "        f.write(str(POI_loc_info[l]))\n",
    "        f.write(\", epsilon(xy) = \")\n",
    "        f.write(str(epsilon_z_0))\n",
    "        f.write(\",epsilon(t) = \")\n",
    "        f.write(str(epsilon_t_0))\n",
    "        f.write(\"の時\\n\")\n",
    "        f.write(\"trueの平均値 = \")\n",
    "        f.write(str(true_mean))\n",
    "        f.write(\", falseの平均値 = \")\n",
    "        f.write(str(false_mean))\n",
    "        f.write(\"\\n\")\n",
    "        \n",
    "    # POIに関連するリストのクリア\n",
    "    POI_result_list_0 = []\n",
    "    POI_True_list_0   = []\n",
    "    POI_False_list_0  = []\n",
    "    poi_true_0 = 0\n",
    "    poi_false_0 = 0\n",
    "    print(\"Number \"+str(l+1)+\" is Done\")\n",
    "print(\"Finish\")"
   ]
  },
  {
   "cell_type": "markdown",
   "id": "9ea44369-12be-4811-a7cc-cb2b5c1701f8",
   "metadata": {
    "tags": []
   },
   "source": [
    "#### XYに厳しいノイズ(ε_xy = 0.001, ε_t = 4.476)"
   ]
  },
  {
   "cell_type": "code",
   "execution_count": 9,
   "id": "add2d360-c231-43da-8f4e-c760cdf3356e",
   "metadata": {},
   "outputs": [],
   "source": [
    "# POI検索プログラムによる出力（到達できるか否かを表す）\n",
    "poi_true_total_1  = 0\n",
    "poi_false_total_1 = 0\n",
    "make_graph1       = []\n",
    "# path_w_1 = 'right_Balance_Noise1.txt'"
   ]
  },
  {
   "cell_type": "code",
   "execution_count": 10,
   "id": "381a1191-b757-460a-b1bd-1a59584964e3",
   "metadata": {},
   "outputs": [],
   "source": [
    "# ノイズを付与した座標を格納するためのリスト\n",
    "zx_list_1 = []\n",
    "zy_list_1 = []\n",
    "# ノイズを付与した時刻を格納するためのリスト\n",
    "zt_list_1 = []\n",
    "\n",
    "# POIの検索結果を格納するためのリスト\n",
    "POI_result_list_1 = []\n",
    "POI_True_list_1   = []\n",
    "POI_False_list_1  = []\n",
    "\n",
    "# epsilonの値の定義\n",
    "epsilon_z_1 = 0.001\n",
    "epsilon_t_1 = 4.476"
   ]
  },
  {
   "cell_type": "code",
   "execution_count": 11,
   "id": "27bc7224-0ea4-4a9d-b158-d7e122810468",
   "metadata": {},
   "outputs": [
    {
     "name": "stdout",
     "output_type": "stream",
     "text": [
      "Number 1 is Done\n",
      "Number 2 is Done\n",
      "Number 3 is Done\n",
      "Number 4 is Done\n",
      "Number 5 is Done\n",
      "Number 6 is Done\n",
      "Number 7 is Done\n",
      "Number 8 is Done\n",
      "Number 9 is Done\n",
      "Finish\n"
     ]
    }
   ],
   "source": [
    "# ノイズを生成する\n",
    "# thetaを[0:2π)の範囲で一様分布にしたがって生成する\n",
    "theta = np.random.uniform(0,2*np.pi, total_num_points)\n",
    "\n",
    "# [0:1)の範囲で一様分布に従ったランダぷのいずを生成する\n",
    "p_z_1 = np.random.uniform(0,1,total_num_points)\n",
    "p_t_1 = np.random.uniform(0,1,total_num_points)\n",
    "\n",
    "for l in range(len(POI_loc_info)):\n",
    "    for i in range(100):\n",
    "        # 100回繰り返した平均を取得する\n",
    "        # PLノイズを付与\n",
    "        W = LW( ((p_z_1 - 1) / np.e), k = -1 )\n",
    "        r = ( -1 / epsilon_z_1 ) * ( W + 1 )\n",
    "        \n",
    "        zx = real_loc_info[0] + r * np.cos(theta)\n",
    "        zx_list_1.append(np.array(zx))\n",
    "        zy = real_loc_info[1] + r * np.sin(theta)\n",
    "        zy_list_1.append(np.array(zy))\n",
    "        \n",
    "        # EXノイズを付与\n",
    "        for j in range(total_num_points):\n",
    "            if p_t_1[j] <= (pp/(pp+1)):\n",
    "                zt_list_1.append( ((2*pp)/epsilon_t_1) * np.log( ((pp+1)*p_t_1[j]) / pp ))\n",
    "            else:\n",
    "                zt_list_1.append( (2/epsilon_t_1) * np.log( (1 / ((pp+1)*(1-p_t_1[j]))) ))\n",
    "        POI_result_list_1.append(PointOfInterest(\n",
    "            poi_true_total_1, poi_false_total_1, total_num_points,\n",
    "        real_loc_info, POI_loc_info[l], zx_list_1, zy_list_1, zt_list_1,\n",
    "        verocity))\n",
    "        \n",
    "        # ノイズを付与した値を格納するためのリストをクリアする\n",
    "        zx_list_1 = []\n",
    "        zy_list_1 = []\n",
    "        zt_list_1 = []\n",
    "        \n",
    "    for k in range(100):\n",
    "        POI_True_list_1.append(POI_result_list_1[k][0])\n",
    "        POI_False_list_1.append(POI_result_list_1[k][1])\n",
    "        \n",
    "    true_mean = statistics.mean(POI_True_list_1)\n",
    "    false_mean = statistics.mean(POI_False_list_1)\n",
    "    make_graph1.append(true_mean)\n",
    "    \"\"\"\n",
    "    with open(path_w_1, mode='a') as f:\n",
    "        f.write(\"POI -> \")\n",
    "        f.write(str(POI_loc_info[l]))\n",
    "        f.write(\", epsilon(xy) = \")\n",
    "        f.write(str(epsilon_z_1))\n",
    "        f.write(\",epsilon(t) = \")\n",
    "        f.write(str(epsilon_t_1))\n",
    "        f.write(\"の時\\n\")\n",
    "        f.write(\"trueの平均値 = \")\n",
    "        f.write(str(true_mean))\n",
    "        f.write(\", falseの平均値 = \")\n",
    "        f.write(str(false_mean))\n",
    "        f.write(\"\\n\")\n",
    "    \"\"\"\n",
    "    # POIに関連するリストのクリア\n",
    "    POI_result_list_1 = []\n",
    "    POI_True_list_1   = []\n",
    "    POI_False_list_1  = []\n",
    "    poi_true_1  = 0\n",
    "    poi_false_1 = 0\n",
    "    print(\"Number \"+str(l+1)+\" is Done\")\n",
    "print(\"Finish\")"
   ]
  },
  {
   "cell_type": "markdown",
   "id": "87f5965d-68e6-4a30-ab47-5df22b51e8db",
   "metadata": {
    "tags": []
   },
   "source": [
    "#### Tに厳しいノイズ（ε_xy = 1.119, ε_t = 0.004）"
   ]
  },
  {
   "cell_type": "code",
   "execution_count": 12,
   "id": "ddaf4ad2-9b08-4189-9d6f-ad370d7f4734",
   "metadata": {},
   "outputs": [],
   "source": [
    "# POI検索プログラムによる出力（到達できるか否かを表す）\n",
    "poi_true_total_2  = 0\n",
    "poi_false_total_2 = 0\n",
    "make_graph2       = []\n",
    "# path_w_2 = 'right_Balance_Noise2.txt'"
   ]
  },
  {
   "cell_type": "code",
   "execution_count": 13,
   "id": "6d2c11be-9f75-42c2-8e74-4fb1df807af8",
   "metadata": {},
   "outputs": [],
   "source": [
    "# ノイズを付与した座標を格納するためのリスト\n",
    "zx_list_2 = []\n",
    "zy_list_2 = []\n",
    "# ノイズを付与した時刻を格納するためのリスト\n",
    "zt_list_2 = []\n",
    "\n",
    "# POIの検索結果を格納するためのリスト\n",
    "POI_result_list_2 = []\n",
    "POI_True_list_2   = []\n",
    "POI_False_list_2  = []\n",
    "\n",
    "# epsilonの値の定義\n",
    "epsilon_z_2 = 1.119\n",
    "epsilon_t_2 = 0.004"
   ]
  },
  {
   "cell_type": "code",
   "execution_count": 14,
   "id": "0995b45b-4f4d-471b-ac2b-8a09c5204fdf",
   "metadata": {},
   "outputs": [
    {
     "name": "stdout",
     "output_type": "stream",
     "text": [
      "Number 1 is Done\n",
      "Number 2 is Done\n",
      "Number 3 is Done\n",
      "Number 4 is Done\n",
      "Number 5 is Done\n",
      "Number 6 is Done\n",
      "Number 7 is Done\n",
      "Number 8 is Done\n",
      "Number 9 is Done\n",
      "Finish\n"
     ]
    }
   ],
   "source": [
    "# ノイズを生成する\n",
    "# thetaを[0:2π)の範囲で一様分布にしたがって生成する\n",
    "theta = np.random.uniform(0,2*np.pi, total_num_points)\n",
    "\n",
    "# [0:1)の範囲で一様分布に従ったランダぷのいずを生成する\n",
    "p_z_2 = np.random.uniform(0,1,total_num_points)\n",
    "p_t_2 = np.random.uniform(0,1,total_num_points)\n",
    "\n",
    "for l in range(len(POI_loc_info)):\n",
    "    for i in range(100):\n",
    "        # 100回繰り返した平均を取得する\n",
    "        # PLノイズを付与\n",
    "        W = LW( ((p_z_2 - 1) / np.e), k = -1 )\n",
    "        r = ( -1 / epsilon_z_2 ) * ( W + 1 )\n",
    "        \n",
    "        zx = real_loc_info[0] + r * np.cos(theta)\n",
    "        zx_list_2.append(np.array(zx))\n",
    "        zy = real_loc_info[1] + r * np.sin(theta)\n",
    "        zy_list_2.append(np.array(zy))\n",
    "        \n",
    "        # EXノイズを付与\n",
    "        for j in range(total_num_points):\n",
    "            if p_t_2[j] <= (pp/(pp+1)):\n",
    "                zt_list_2.append( ((2*pp)/epsilon_t_2) * np.log( ((pp+1)*p_t_2[j]) / pp ))\n",
    "            else:\n",
    "                zt_list_2.append( (2/epsilon_t_2) * np.log( (1 / ((pp+1)*(1-p_t_2[j]))) ))\n",
    "        POI_result_list_2.append(PointOfInterest(\n",
    "            poi_true_total_2, poi_false_total_2, total_num_points,\n",
    "        real_loc_info, POI_loc_info[l], zx_list_2, zy_list_2, zt_list_2,\n",
    "        verocity))\n",
    "        \n",
    "        # ノイズを付与した値を格納するためのリストをクリアする\n",
    "        zx_list_2 = []\n",
    "        zy_list_2 = []\n",
    "        zt_list_2 = []\n",
    "        \n",
    "    for k in range(100):\n",
    "        POI_True_list_2.append(POI_result_list_2[k][0])\n",
    "        POI_False_list_2.append(POI_result_list_2[k][1])\n",
    "        \n",
    "    true_mean = statistics.mean(POI_True_list_2)\n",
    "    false_mean = statistics.mean(POI_False_list_2)\n",
    "    make_graph2.append(true_mean)\n",
    "    \"\"\"\n",
    "    with open(path_w_2, mode='a') as f:\n",
    "        f.write(\"POI -> \")\n",
    "        f.write(str(POI_loc_info[l]))\n",
    "        f.write(\", epsilon(xy) = \")\n",
    "        f.write(str(epsilon_z_2))\n",
    "        f.write(\",epsilon(t) = \")\n",
    "        f.write(str(epsilon_t_2))\n",
    "        f.write(\"の時\\n\")\n",
    "        f.write(\"trueの平均値 = \")\n",
    "        f.write(str(true_mean))\n",
    "        f.write(\", falseの平均値 = \")\n",
    "        f.write(str(false_mean))\n",
    "        f.write(\"\\n\")\n",
    "    \"\"\"\n",
    "    # POIに関連するリストのクリア\n",
    "    POI_result_list_2 = []\n",
    "    POI_True_list_2   = []\n",
    "    POI_False_list_2  = []\n",
    "    poi_true_2  = 0\n",
    "    poi_false_2 = 0\n",
    "    print(\"Number \"+str(l+1)+\" is Done\")\n",
    "print(\"Finish\")"
   ]
  },
  {
   "cell_type": "markdown",
   "id": "7a6e899f-c453-475b-bc27-65eeb7139981",
   "metadata": {
    "tags": []
   },
   "source": [
    "### consideration"
   ]
  },
  {
   "cell_type": "code",
   "execution_count": 15,
   "id": "ea6da3bc-4f4c-4957-b4d1-fdf32c82b110",
   "metadata": {},
   "outputs": [
    {
     "data": {
      "image/png": "[encoded data removed]",
      "text/plain": [
       "<Figure size 640x480 with 1 Axes>"
      ]
     },
     "metadata": {},
     "output_type": "display_data"
    }
   ],
   "source": [
    "fig, ax = plt.subplots()\n",
    "\n",
    "c0,c1,c2 = \"blue\",\"green\",\"red\"     # 各プロットの色\n",
    "l0,l1,l2 = \"utility eps(xy=0.6,t=2.4)\",\"utility eps(xy=0.001,t=4.476)\",\"utility eps(xy=1.119,t=0.004)\"   # 各ラベル\n",
    "\n",
    "ax.set_xlabel('hour')  # x軸ラベル\n",
    "ax.set_ylabel('true mean')  # y軸ラベル\n",
    "ax.set_title(r'Epsilon unbalance and comparison') # グラフタイトル\n",
    "# ax.set_aspect('equal') # スケールを揃える\n",
    "ax.grid()            # 罫線\n",
    "#ax.set_xlim([-10, 10]) # x方向の描画範囲を指定\n",
    "#ax.set_ylim([0, 1])    # y方向の描画範囲を指定\n",
    "ax.plot(time_list, make_graph0, color=c0, label=l0)\n",
    "ax.plot(time_list, make_graph1, color=c1, label=l1)\n",
    "ax.plot(time_list, make_graph2, color=c2, label=l2)\n",
    "ax.legend(loc=0)    # 凡例\n",
    "fig.tight_layout()  # レイアウトの設定\n",
    "plt.savefig('EpsilonUnbalance-extreme_.png') # 画像の保存\n",
    "plt.show()"
   ]
  },
  {
   "cell_type": "code",
   "execution_count": null,
   "id": "87d958d4-bc67-496c-ba8d-6ebce46a8966",
   "metadata": {},
   "outputs": [],
   "source": []
  }
 ],
 "metadata": {
  "kernelspec": {
   "display_name": "Python 3 (ipykernel)",
   "language": "python",
   "name": "python3"
  },
  "language_info": {
   "codemirror_mode": {
    "name": "ipython",
    "version": 3
   },
   "file_extension": ".py",
   "mimetype": "text/x-python",
   "name": "python",
   "nbconvert_exporter": "python",
   "pygments_lexer": "ipython3",
   "version": "3.9.13"
  }
 },
 "nbformat": 4,
 "nbformat_minor": 5
}
